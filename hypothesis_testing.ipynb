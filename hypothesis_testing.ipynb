{
 "cells": [
  {
   "cell_type": "markdown",
   "id": "e5cfb7fe",
   "metadata": {},
   "source": [
    "## For each of the following questions, formulate a null and alternative hypothesis (be as specific as you can be), then give an example of what a true positive, true negative, type I and type II errors would look like. Note that some of the questions are intentionally phrased in a vague way. It is your job to reword these as more precise questions that could be tested.\n",
    "- True Positive: Null is false and we rejected the null. \n",
    "- True Negative: Null is true and we accepted the null.\n",
    "- A type I error is when we reject the null hypothesis, but, in reality, the null hypothesis is true. (Rejecting null hypothisis incrorrectly)\n",
    "- A type II error is when we fail to reject the null hypothesis when it is actually false. p-value > alpha. (Rejecting alternative hypothisis incorrectly)\n",
    "- p-value: probability that we observed this result due to chance. if it's less than our alpha, we reject the null hypothesis...there IS a difference, or a relationship. p-value < alpha.\n"
   ]
  },
  {
   "cell_type": "markdown",
   "id": "8d0af8bd",
   "metadata": {},
   "source": [
    "### Has the network latency gone up since we switched internet service providers?\n"
   ]
  },
  {
   "cell_type": "markdown",
   "id": "b4728777",
   "metadata": {},
   "source": [
    "##### \n",
    "$H_{0}$ - Is the network latency the same or less since we switched internet service providers? \n",
    "\n",
    "$H_{a}$ - Is the network latency higher since we switched internet service providers? \n",
    "\n",
    "- True Positive: The latency is higher\n",
    "- True Negative: The latency is lower\n",
    "- Type I error: p-value > alpha. This would lead us to NOT reject the null hypothisis and believe that network latency was the same or less when in reality it was higher. \n",
    "- Type II error: p-value < alpha. This would lead us to believe that the null hypothisis was true when in reality network latency was the same or less. "
   ]
  },
  {
   "cell_type": "markdown",
   "id": "f643f856",
   "metadata": {},
   "source": [
    "### Is the website redesign any good?\n"
   ]
  },
  {
   "cell_type": "markdown",
   "id": "c378a318",
   "metadata": {},
   "source": [
    "##### \n",
    "$H_{0}$ - Has the new website maintained or decreased click through rate? \n",
    "\n",
    "$H_{a}$ - Has the new website increased clickthrough rate? \n",
    "\n",
    "- True Positive: Null is false and we rejected the null. So, in this case clickthrough rate has increased since implimenting the new site.\n",
    "- True Negative: Null is true and we accepted the null. Clickthrough rate has stayed the same or decreased. \n",
    "- Type I error: Rejected the null hypothesis, but, in reality, the null hypothesis is true. So, we think that the new website has increased clickthrough but it actually has not. \n",
    "- Type II error: Fail to reject the null hypothesis when it is actually false. So, we think that the new website has maintained or decreased clickthrough."
   ]
  },
  {
   "cell_type": "markdown",
   "id": "3872e698",
   "metadata": {},
   "source": [
    "### Is our television ad driving more sales?"
   ]
  },
  {
   "cell_type": "markdown",
   "id": "645de062",
   "metadata": {},
   "source": [
    "#### \n",
    "$H_{0}$ - Have our sales remained the same or decreased since running our ad?\n",
    "\n",
    "$H_{a}$ - Have our sales increased since running our ad?\n",
    "\n",
    "- True Positive: Null is false and we rejected the null. So, in this case the ad caused sales to increase.\n",
    "- True Negative: Null is true and we accepted the null. Sales remained the same or decreased dispite the ad.  \n",
    "- Type I error: Rejected the null hypothesis, but, in reality, the null hypothesis is true. So, we think that the ad has increased sales.\n",
    "- Type II error: Fail to reject the null hypothesis when it is actually false. So, we think that the ad has not increased sales. "
   ]
  },
  {
   "cell_type": "markdown",
   "id": "610be4b1",
   "metadata": {},
   "source": [
    "### Ace Realty wants to determine whether the average time it takes to sell homes is different for its two offices. A sample of 40 sales from office #1 revealed a mean of 90 days and a standard deviation of 15 days. A sample of 50 sales from office #2 revealed a mean of 100 days and a standard deviation of 20 days. Use a .05 level of significance.\n",
    "\n"
   ]
  },
  {
   "cell_type": "code",
   "execution_count": 42,
   "id": "4ee681cc",
   "metadata": {},
   "outputs": [],
   "source": [
    "from math import sqrt\n",
    "from scipy import stats\n",
    "\n",
    "%matplotlib inline\n",
    "import matplotlib.pyplot as plt\n",
    "import numpy as np\n",
    "import pandas as pd"
   ]
  },
  {
   "cell_type": "markdown",
   "id": "da5964be",
   "metadata": {},
   "source": [
    "#### Ho: Average time it takes to sell homes office one = Average time it takes to sell homes office two\n"
   ]
  },
  {
   "cell_type": "markdown",
   "id": "5e3dd2b0",
   "metadata": {},
   "source": [
    "#### Ha: Average time it takes to sell homes office one != Average time it takes to sell homes office two"
   ]
  },
  {
   "cell_type": "code",
   "execution_count": 23,
   "id": "9e7dd946",
   "metadata": {
    "scrolled": true
   },
   "outputs": [
    {
     "data": {
      "text/plain": [
       "-2.6252287036468456"
      ]
     },
     "execution_count": 23,
     "metadata": {},
     "output_type": "execute_result"
    }
   ],
   "source": [
    "n1 = office1_sample = 40\n",
    "n2 = office2_sample = 50\n",
    "\n",
    "mu1 = office1_avg_days = 90\n",
    "mu2 = office2_avg_days = 100\n",
    "\n",
    "s1 = office1_stdv = 15\n",
    "s2 = office2_stdv = 20\n",
    "\n",
    "alpha = 0.05\n",
    "\n",
    "degf = office1_sample + office2_sample - 2\n",
    "\n",
    "s_p = sqrt(((n1 - 1) * s1**2 + (n2 - 1) * s2**2) / (n1 + n2 - 2))\n",
    "s_p\n",
    "\n",
    "standard_error = se = sqrt(s1**2 / n1 + s2**2 / n2)\n",
    "\n",
    "t = (mu1 - mu2) / (s_p * sqrt(1/n1 + 1/n2))\n",
    "t"
   ]
  },
  {
   "cell_type": "code",
   "execution_count": 30,
   "id": "8064cb60",
   "metadata": {},
   "outputs": [
    {
     "data": {
      "text/plain": [
       "0.01020985244923939"
      ]
     },
     "execution_count": 30,
     "metadata": {},
     "output_type": "execute_result"
    }
   ],
   "source": [
    "p = stats.t(degf).cdf(t) * 2\n",
    "p"
   ]
  },
  {
   "cell_type": "code",
   "execution_count": 28,
   "id": "0b2c2499",
   "metadata": {},
   "outputs": [
    {
     "data": {
      "text/plain": [
       "(-2.6252287036468456, 0.01020985244923939)"
      ]
     },
     "execution_count": 28,
     "metadata": {},
     "output_type": "execute_result"
    }
   ],
   "source": [
    "t, p = stats.ttest_ind_from_stats(90, 15, 40, 100, 20, 50)\n",
    "t,p"
   ]
  },
  {
   "cell_type": "markdown",
   "id": "3335d29b",
   "metadata": {},
   "source": [
    "##### We can reject the null hypothesis "
   ]
  },
  {
   "cell_type": "markdown",
   "id": "08ab0019",
   "metadata": {},
   "source": [
    "### Load the mpg dataset and use it to answer the following questions:\n",
    "\n"
   ]
  },
  {
   "cell_type": "code",
   "execution_count": 40,
   "id": "ca2a2c9b",
   "metadata": {},
   "outputs": [
    {
     "data": {
      "text/html": [
       "<div>\n",
       "<style scoped>\n",
       "    .dataframe tbody tr th:only-of-type {\n",
       "        vertical-align: middle;\n",
       "    }\n",
       "\n",
       "    .dataframe tbody tr th {\n",
       "        vertical-align: top;\n",
       "    }\n",
       "\n",
       "    .dataframe thead th {\n",
       "        text-align: right;\n",
       "    }\n",
       "</style>\n",
       "<table border=\"1\" class=\"dataframe\">\n",
       "  <thead>\n",
       "    <tr style=\"text-align: right;\">\n",
       "      <th></th>\n",
       "      <th>manufacturer</th>\n",
       "      <th>model</th>\n",
       "      <th>displ</th>\n",
       "      <th>year</th>\n",
       "      <th>cyl</th>\n",
       "      <th>trans</th>\n",
       "      <th>drv</th>\n",
       "      <th>cty</th>\n",
       "      <th>hwy</th>\n",
       "      <th>fl</th>\n",
       "      <th>class</th>\n",
       "    </tr>\n",
       "  </thead>\n",
       "  <tbody>\n",
       "    <tr>\n",
       "      <th>1</th>\n",
       "      <td>audi</td>\n",
       "      <td>a4</td>\n",
       "      <td>1.8</td>\n",
       "      <td>1999</td>\n",
       "      <td>4</td>\n",
       "      <td>auto(l5)</td>\n",
       "      <td>f</td>\n",
       "      <td>18</td>\n",
       "      <td>29</td>\n",
       "      <td>p</td>\n",
       "      <td>compact</td>\n",
       "    </tr>\n",
       "    <tr>\n",
       "      <th>2</th>\n",
       "      <td>audi</td>\n",
       "      <td>a4</td>\n",
       "      <td>1.8</td>\n",
       "      <td>1999</td>\n",
       "      <td>4</td>\n",
       "      <td>manual(m5)</td>\n",
       "      <td>f</td>\n",
       "      <td>21</td>\n",
       "      <td>29</td>\n",
       "      <td>p</td>\n",
       "      <td>compact</td>\n",
       "    </tr>\n",
       "    <tr>\n",
       "      <th>3</th>\n",
       "      <td>audi</td>\n",
       "      <td>a4</td>\n",
       "      <td>2.0</td>\n",
       "      <td>2008</td>\n",
       "      <td>4</td>\n",
       "      <td>manual(m6)</td>\n",
       "      <td>f</td>\n",
       "      <td>20</td>\n",
       "      <td>31</td>\n",
       "      <td>p</td>\n",
       "      <td>compact</td>\n",
       "    </tr>\n",
       "    <tr>\n",
       "      <th>4</th>\n",
       "      <td>audi</td>\n",
       "      <td>a4</td>\n",
       "      <td>2.0</td>\n",
       "      <td>2008</td>\n",
       "      <td>4</td>\n",
       "      <td>auto(av)</td>\n",
       "      <td>f</td>\n",
       "      <td>21</td>\n",
       "      <td>30</td>\n",
       "      <td>p</td>\n",
       "      <td>compact</td>\n",
       "    </tr>\n",
       "    <tr>\n",
       "      <th>5</th>\n",
       "      <td>audi</td>\n",
       "      <td>a4</td>\n",
       "      <td>2.8</td>\n",
       "      <td>1999</td>\n",
       "      <td>6</td>\n",
       "      <td>auto(l5)</td>\n",
       "      <td>f</td>\n",
       "      <td>16</td>\n",
       "      <td>26</td>\n",
       "      <td>p</td>\n",
       "      <td>compact</td>\n",
       "    </tr>\n",
       "  </tbody>\n",
       "</table>\n",
       "</div>"
      ],
      "text/plain": [
       "  manufacturer model  displ  year  cyl       trans drv  cty  hwy fl    class\n",
       "1         audi    a4    1.8  1999    4    auto(l5)   f   18   29  p  compact\n",
       "2         audi    a4    1.8  1999    4  manual(m5)   f   21   29  p  compact\n",
       "3         audi    a4    2.0  2008    4  manual(m6)   f   20   31  p  compact\n",
       "4         audi    a4    2.0  2008    4    auto(av)   f   21   30  p  compact\n",
       "5         audi    a4    2.8  1999    6    auto(l5)   f   16   26  p  compact"
      ]
     },
     "execution_count": 40,
     "metadata": {},
     "output_type": "execute_result"
    }
   ],
   "source": [
    "from pydataset import data\n",
    "mpg = data('mpg')\n",
    "mpg.head()\n"
   ]
  },
  {
   "cell_type": "markdown",
   "id": "e0ddb5a7",
   "metadata": {},
   "source": [
    "#### Is there a difference in fuel-efficiency in cars from 2008 vs 1999?\n",
    "- Ho: Fuel efficiency in 1999 = Fuel efficiency in 2008\n",
    "- Ha: Fuel efficiency in 1999 != Fuel efficiency in 2008\n"
   ]
  },
  {
   "cell_type": "code",
   "execution_count": 54,
   "id": "2cf208ab",
   "metadata": {},
   "outputs": [
    {
     "data": {
      "text/html": [
       "<div>\n",
       "<style scoped>\n",
       "    .dataframe tbody tr th:only-of-type {\n",
       "        vertical-align: middle;\n",
       "    }\n",
       "\n",
       "    .dataframe tbody tr th {\n",
       "        vertical-align: top;\n",
       "    }\n",
       "\n",
       "    .dataframe thead th {\n",
       "        text-align: right;\n",
       "    }\n",
       "</style>\n",
       "<table border=\"1\" class=\"dataframe\">\n",
       "  <thead>\n",
       "    <tr style=\"text-align: right;\">\n",
       "      <th></th>\n",
       "      <th>manufacturer</th>\n",
       "      <th>model</th>\n",
       "      <th>displ</th>\n",
       "      <th>year</th>\n",
       "      <th>cyl</th>\n",
       "      <th>trans</th>\n",
       "      <th>drv</th>\n",
       "      <th>cty</th>\n",
       "      <th>hwy</th>\n",
       "      <th>fl</th>\n",
       "      <th>class</th>\n",
       "    </tr>\n",
       "  </thead>\n",
       "  <tbody>\n",
       "    <tr>\n",
       "      <th>1</th>\n",
       "      <td>audi</td>\n",
       "      <td>a4</td>\n",
       "      <td>1.8</td>\n",
       "      <td>1999</td>\n",
       "      <td>4</td>\n",
       "      <td>auto(l5)</td>\n",
       "      <td>f</td>\n",
       "      <td>18</td>\n",
       "      <td>29</td>\n",
       "      <td>p</td>\n",
       "      <td>compact</td>\n",
       "    </tr>\n",
       "    <tr>\n",
       "      <th>2</th>\n",
       "      <td>audi</td>\n",
       "      <td>a4</td>\n",
       "      <td>1.8</td>\n",
       "      <td>1999</td>\n",
       "      <td>4</td>\n",
       "      <td>manual(m5)</td>\n",
       "      <td>f</td>\n",
       "      <td>21</td>\n",
       "      <td>29</td>\n",
       "      <td>p</td>\n",
       "      <td>compact</td>\n",
       "    </tr>\n",
       "    <tr>\n",
       "      <th>3</th>\n",
       "      <td>audi</td>\n",
       "      <td>a4</td>\n",
       "      <td>2.0</td>\n",
       "      <td>2008</td>\n",
       "      <td>4</td>\n",
       "      <td>manual(m6)</td>\n",
       "      <td>f</td>\n",
       "      <td>20</td>\n",
       "      <td>31</td>\n",
       "      <td>p</td>\n",
       "      <td>compact</td>\n",
       "    </tr>\n",
       "    <tr>\n",
       "      <th>4</th>\n",
       "      <td>audi</td>\n",
       "      <td>a4</td>\n",
       "      <td>2.0</td>\n",
       "      <td>2008</td>\n",
       "      <td>4</td>\n",
       "      <td>auto(av)</td>\n",
       "      <td>f</td>\n",
       "      <td>21</td>\n",
       "      <td>30</td>\n",
       "      <td>p</td>\n",
       "      <td>compact</td>\n",
       "    </tr>\n",
       "    <tr>\n",
       "      <th>5</th>\n",
       "      <td>audi</td>\n",
       "      <td>a4</td>\n",
       "      <td>2.8</td>\n",
       "      <td>1999</td>\n",
       "      <td>6</td>\n",
       "      <td>auto(l5)</td>\n",
       "      <td>f</td>\n",
       "      <td>16</td>\n",
       "      <td>26</td>\n",
       "      <td>p</td>\n",
       "      <td>compact</td>\n",
       "    </tr>\n",
       "  </tbody>\n",
       "</table>\n",
       "</div>"
      ],
      "text/plain": [
       "  manufacturer model  displ  year  cyl       trans drv  cty  hwy fl    class\n",
       "1         audi    a4    1.8  1999    4    auto(l5)   f   18   29  p  compact\n",
       "2         audi    a4    1.8  1999    4  manual(m5)   f   21   29  p  compact\n",
       "3         audi    a4    2.0  2008    4  manual(m6)   f   20   31  p  compact\n",
       "4         audi    a4    2.0  2008    4    auto(av)   f   21   30  p  compact\n",
       "5         audi    a4    2.8  1999    6    auto(l5)   f   16   26  p  compact"
      ]
     },
     "execution_count": 54,
     "metadata": {},
     "output_type": "execute_result"
    }
   ],
   "source": [
    "year_diff_df = mpg[(mpg.year==1999) | (mpg.year==2008)]\n",
    "year_diff_df.head()\n"
   ]
  },
  {
   "cell_type": "markdown",
   "id": "15a6b476",
   "metadata": {},
   "source": [
    "#### Are compact cars more fuel-efficient than the average car?\n",
    "- Ho: Compact car efficiency <= average car\n",
    "- Ha: Compact car efficiency > average car"
   ]
  },
  {
   "cell_type": "markdown",
   "id": "f7d1e8a5",
   "metadata": {},
   "source": [
    "#### Do manual cars get better gas mileage than automatic cars?\n",
    "- Ho: Manual car gas milage <= automatic car\n",
    "- Ha: Manual car gas milage > automatic car"
   ]
  },
  {
   "cell_type": "code",
   "execution_count": null,
   "id": "5c1c6b8b",
   "metadata": {},
   "outputs": [],
   "source": []
  }
 ],
 "metadata": {
  "kernelspec": {
   "display_name": "Python 3",
   "language": "python",
   "name": "python3"
  },
  "language_info": {
   "codemirror_mode": {
    "name": "ipython",
    "version": 3
   },
   "file_extension": ".py",
   "mimetype": "text/x-python",
   "name": "python",
   "nbconvert_exporter": "python",
   "pygments_lexer": "ipython3",
   "version": "3.8.8"
  }
 },
 "nbformat": 4,
 "nbformat_minor": 5
}
