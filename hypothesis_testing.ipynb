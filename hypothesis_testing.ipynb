{
 "cells": [
  {
   "cell_type": "markdown",
   "id": "e5cfb7fe",
   "metadata": {},
   "source": [
    "## For each of the following questions, formulate a null and alternative hypothesis (be as specific as you can be), then give an example of what a true positive, true negative, type I and type II errors would look like. Note that some of the questions are intentionally phrased in a vague way. It is your job to reword these as more precise questions that could be tested.\n",
    "- True Positive: Null is false and we rejected the null. \n",
    "- True Negative: Null is true and we accepted the null.\n",
    "- A type I error is when we reject the null hypothesis, but, in reality, the null hypothesis is true. (Rejecting null hypothisis incrorrectly)\n",
    "- A type II error is when we fail to reject the null hypothesis when it is actually false. p-value > alpha. (Rejecting alternative hypothisis incorrectly)\n",
    "- p-value: probability that we observed this result due to chance. if it's less than our alpha, we reject the null hypothesis...there IS a difference, or a relationship. p-value < alpha.\n"
   ]
  },
  {
   "cell_type": "markdown",
   "id": "8d0af8bd",
   "metadata": {},
   "source": [
    "### Has the network latency gone up since we switched internet service providers?\n"
   ]
  },
  {
   "cell_type": "markdown",
   "id": "b4728777",
   "metadata": {},
   "source": [
    "##### \n",
    "$H_{0}$ - Is the network latency the same or less since we switched internet service providers? \n",
    "\n",
    "$H_{a}$ - Is the network latency higher since we switched internet service providers? \n",
    "\n",
    "- True Positive: The latency is higher\n",
    "- True Negative: The latency is lower\n",
    "- Type I error: p-value > alpha. This would lead us to NOT reject the null hypothisis and believe that network latency was the same or less when in reality it was higher. \n",
    "- Type II error: p-value < alpha. This would lead us to believe that the null hypothisis was true when in reality network latency was the same or less. "
   ]
  },
  {
   "cell_type": "markdown",
   "id": "f643f856",
   "metadata": {},
   "source": [
    "### Is the website redesign any good?\n"
   ]
  },
  {
   "cell_type": "markdown",
   "id": "c378a318",
   "metadata": {},
   "source": [
    "##### \n",
    "$H_{0}$ - Has the new website maintained or decreased click through rate? \n",
    "\n",
    "$H_{a}$ - Has the new website increased clickthrough rate? \n",
    "\n",
    "- True Positive: Null is false and we rejected the null. So, in this case clickthrough rate has increased since implimenting the new site.\n",
    "- True Negative: Null is true and we accepted the null. Clickthrough rate has stayed the same or decreased. \n",
    "- Type I error: Rejected the null hypothesis, but, in reality, the null hypothesis is true. So, we think that the new website has increased clickthrough but it actually has not. \n",
    "- Type II error: Fail to reject the null hypothesis when it is actually false. So, we think that the new website has maintained or decreased clickthrough."
   ]
  },
  {
   "cell_type": "markdown",
   "id": "3872e698",
   "metadata": {},
   "source": [
    "### Is our television ad driving more sales?"
   ]
  },
  {
   "cell_type": "markdown",
   "id": "645de062",
   "metadata": {},
   "source": [
    "#### \n",
    "$H_{0}$ - Have our sales remained the same or decreased since running our ad?\n",
    "\n",
    "$H_{a}$ - Have our sales increased since running our ad?\n",
    "\n",
    "- True Positive: Null is false and we rejected the null. So, in this case the ad caused sales to increase.\n",
    "- True Negative: Null is true and we accepted the null. Sales remained the same or decreased dispite the ad.  \n",
    "- Type I error: Rejected the null hypothesis, but, in reality, the null hypothesis is true. So, we think that the ad has increased sales.\n",
    "- Type II error: Fail to reject the null hypothesis when it is actually false. So, we think that the ad has not increased sales. "
   ]
  },
  {
   "cell_type": "markdown",
   "id": "8562ef21",
   "metadata": {},
   "source": [
    "### Ace Realty wants to determine whether the average time it takes to sell homes is different for its two offices. A sample of 40 sales from office #1 revealed a mean of 90 days and a standard deviation of 15 days. A sample of 50 sales from office #2 revealed a mean of 100 days and a standard deviation of 20 days. Use a .05 level of significance.\n",
    "\n"
   ]
  },
  {
   "cell_type": "code",
   "execution_count": 2,
   "id": "9f0a0c3e",
   "metadata": {},
   "outputs": [],
   "source": [
    "from math import sqrt\n",
    "from scipy import stats\n",
    "\n",
    "%matplotlib inline\n",
    "import matplotlib.pyplot as plt\n",
    "import numpy as np\n",
    "import pandas as pd"
   ]
  },
  {
   "cell_type": "markdown",
   "id": "382e9df9",
   "metadata": {},
   "source": [
    "#### Ho: Average time it takes to sell homes office one = Average time it takes to sell homes office two\n"
   ]
  },
  {
   "cell_type": "markdown",
   "id": "cc67db21",
   "metadata": {},
   "source": [
    "#### Ha: Average time it takes to sell homes office one != Average time it takes to sell homes office two"
   ]
  },
  {
   "cell_type": "code",
   "execution_count": 23,
   "id": "0f4cdc1c",
   "metadata": {
    "scrolled": true
   },
   "outputs": [
    {
     "data": {
      "text/plain": [
       "-2.6252287036468456"
      ]
     },
     "execution_count": 23,
     "metadata": {},
     "output_type": "execute_result"
    }
   ],
   "source": [
    "n1 = office1_sample = 40\n",
    "n2 = office2_sample = 50\n",
    "\n",
    "mu1 = office1_avg_days = 90\n",
    "mu2 = office2_avg_days = 100\n",
    "\n",
    "s1 = office1_stdv = 15\n",
    "s2 = office2_stdv = 20\n",
    "\n",
    "alpha = 0.05\n",
    "\n",
    "degf = office1_sample + office2_sample - 2\n",
    "\n",
    "s_p = sqrt(((n1 - 1) * s1**2 + (n2 - 1) * s2**2) / (n1 + n2 - 2))\n",
    "s_p\n",
    "\n",
    "standard_error = se = sqrt(s1**2 / n1 + s2**2 / n2)\n",
    "\n",
    "t = (mu1 - mu2) / (s_p * sqrt(1/n1 + 1/n2))\n",
    "t"
   ]
  },
  {
   "cell_type": "code",
   "execution_count": 30,
   "id": "6a013824",
   "metadata": {},
   "outputs": [
    {
     "data": {
      "text/plain": [
       "0.01020985244923939"
      ]
     },
     "execution_count": 30,
     "metadata": {},
     "output_type": "execute_result"
    }
   ],
   "source": [
    "p = stats.t(degf).cdf(t) * 2\n",
    "p"
   ]
  },
  {
   "cell_type": "code",
   "execution_count": 28,
   "id": "170eeb48",
   "metadata": {},
   "outputs": [
    {
     "data": {
      "text/plain": [
       "(-2.6252287036468456, 0.01020985244923939)"
      ]
     },
     "execution_count": 28,
     "metadata": {},
     "output_type": "execute_result"
    }
   ],
   "source": [
    "t, p = stats.ttest_ind_from_stats(90, 15, 40, 100, 20, 50)\n",
    "t,p"
   ]
  },
  {
   "cell_type": "markdown",
   "id": "165da51f",
   "metadata": {},
   "source": [
    "##### We can reject the null hypothsis "
   ]
  },
  {
   "cell_type": "markdown",
   "id": "9652c84a",
   "metadata": {},
   "source": [
    "### Load the mpg dataset and use it to answer the following questions:\n",
    "\n"
   ]
  },
  {
   "cell_type": "markdown",
   "id": "263b549c",
   "metadata": {},
   "source": [
    "#### Is there a difference in fuel-efficiency in cars from 2008 vs 1999?\n"
   ]
  },
  {
   "cell_type": "markdown",
   "id": "4acd6d3e",
   "metadata": {},
   "source": [
    "#### Are compact cars more fuel-efficient than the average car?\n"
   ]
  },
  {
   "cell_type": "markdown",
   "id": "bcea07cd",
   "metadata": {},
   "source": [
    "#### Do manual cars get better gas mileage than automatic cars?"
   ]
  },
  {
   "cell_type": "code",
   "execution_count": null,
   "id": "e5814d0e",
   "metadata": {},
   "outputs": [],
   "source": []
  }
 ],
 "metadata": {
  "kernelspec": {
   "display_name": "Python 3",
   "language": "python",
   "name": "python3"
  },
  "language_info": {
   "codemirror_mode": {
    "name": "ipython",
    "version": 3
   },
   "file_extension": ".py",
   "mimetype": "text/x-python",
   "name": "python",
   "nbconvert_exporter": "python",
   "pygments_lexer": "ipython3",
   "version": "3.8.8"
  }
 },
 "nbformat": 4,
 "nbformat_minor": 5
}
