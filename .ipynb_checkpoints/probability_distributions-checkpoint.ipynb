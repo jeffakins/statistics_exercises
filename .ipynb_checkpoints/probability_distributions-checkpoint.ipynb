{
 "cells": [
  {
   "cell_type": "markdown",
   "id": "0b66411c",
   "metadata": {},
   "source": [
    "## Probability Exercises\n",
    "- For the following problems, use python to simulate the problem and calculate an experimental probability, then compare that to the theoretical probability."
   ]
  },
  {
   "cell_type": "code",
   "execution_count": 162,
   "id": "9a230f8e",
   "metadata": {},
   "outputs": [],
   "source": [
    "import matplotlib.pyplot as plt\n",
    "import numpy as np\n",
    "import pandas as pd\n",
    "import math\n",
    "from scipy import stats"
   ]
  },
  {
   "cell_type": "markdown",
   "id": "6b729478",
   "metadata": {},
   "source": [
    "### 1. A bank found that the average number of cars waiting during the noon hour at a drive-up window follows a Poisson distribution with a mean of 2 cars. Make a chart of this distribution and answer these questions concerning the probability of cars waiting at the drive-up window."
   ]
  },
  {
   "cell_type": "markdown",
   "id": "c357244d",
   "metadata": {},
   "source": [
    "#### - What is the probability that no cars drive up in the noon hour?"
   ]
  },
  {
   "cell_type": "code",
   "execution_count": 92,
   "id": "bd34ed97",
   "metadata": {},
   "outputs": [
    {
     "data": {
      "text/plain": [
       "0.1353352832366127"
      ]
     },
     "execution_count": 92,
     "metadata": {},
     "output_type": "execute_result"
    }
   ],
   "source": [
    "two_car = stats.poisson(2).pmf(0) #Probability that no cars drive up at noon\n",
    "two_car"
   ]
  },
  {
   "cell_type": "code",
   "execution_count": 93,
   "id": "22f29003",
   "metadata": {},
   "outputs": [
    {
     "data": {
      "image/png": "[encoded data removed]",
      "text/plain": [
       "<Figure size 432x288 with 1 Axes>"
      ]
     },
     "metadata": {
      "needs_background": "light"
     },
     "output_type": "display_data"
    }
   ],
   "source": [
    "# creating a numy array for x-axis\n",
    "x = np.arange(-2, 10, 0.5)\n",
    "  \n",
    "# poisson distribution data for y-axis\n",
    "y = stats.poisson(2).pmf(x)\n",
    "  \n",
    "# plotting the graph\n",
    "plt.step(x, y)\n",
    "plt.fill_between(x,y, step=\"pre\", alpha=0.4)\n",
    "# showing the graph\n",
    "plt.show()"
   ]
  },
  {
   "cell_type": "markdown",
   "id": "74057e4c",
   "metadata": {},
   "source": [
    "#### Simulation - What is the probability that no cars drive up in the noon hour?"
   ]
  },
  {
   "cell_type": "code",
   "execution_count": 178,
   "id": "dfe1eabe",
   "metadata": {},
   "outputs": [],
   "source": [
    "def p_func(x, mu):\n",
    "    p = ((mu**x) * math.e**(-mu)) / math.factorial(x)\n",
    "    return p"
   ]
  },
  {
   "cell_type": "code",
   "execution_count": 180,
   "id": "7dc63e7b",
   "metadata": {},
   "outputs": [
    {
     "ename": "AttributeError",
     "evalue": "'function' object has no attribute 'p_func'",
     "output_type": "error",
     "traceback": [
      "\u001b[0;31m---------------------------------------------------------------------------\u001b[0m",
      "\u001b[0;31mAttributeError\u001b[0m                            Traceback (most recent call last)",
      "\u001b[0;32m<ipython-input-180-a8d2a0544c15>\u001b[0m in \u001b[0;36m<module>\u001b[0;34m\u001b[0m\n\u001b[0;32m----> 1\u001b[0;31m \u001b[0mp_series\u001b[0m \u001b[0;34m=\u001b[0m \u001b[0mpd\u001b[0m\u001b[0;34m.\u001b[0m\u001b[0mSeries\u001b[0m\u001b[0;34m.\u001b[0m\u001b[0mapply\u001b[0m\u001b[0;34m.\u001b[0m\u001b[0mp_func\u001b[0m\u001b[0;34m(\u001b[0m\u001b[0;36m2\u001b[0m\u001b[0;34m,\u001b[0m \u001b[0;36m2\u001b[0m\u001b[0;34m)\u001b[0m\u001b[0;34m\u001b[0m\u001b[0;34m\u001b[0m\u001b[0m\n\u001b[0m",
      "\u001b[0;31mAttributeError\u001b[0m: 'function' object has no attribute 'p_func'"
     ]
    }
   ],
   "source": [
    "p_series = pd.Series.apply.p_func(2, 2)"
   ]
  },
  {
   "cell_type": "markdown",
   "id": "b68b23b3",
   "metadata": {},
   "source": [
    "#### - What is the probability that 3 or more cars come through the drive through?"
   ]
  },
  {
   "cell_type": "code",
   "execution_count": 95,
   "id": "2ce8c77d",
   "metadata": {},
   "outputs": [
    {
     "data": {
      "text/plain": [
       "0.32332358381693654"
      ]
     },
     "execution_count": 95,
     "metadata": {},
     "output_type": "execute_result"
    }
   ],
   "source": [
    "stats.poisson(2).sf(2) #probability that 3 or more cars come through the drive through"
   ]
  },
  {
   "cell_type": "code",
   "execution_count": 96,
   "id": "3bf3bca3",
   "metadata": {},
   "outputs": [
    {
     "data": {
      "image/png": "[encoded data removed]",
      "text/plain": [
       "<Figure size 432x288 with 1 Axes>"
      ]
     },
     "metadata": {
      "needs_background": "light"
     },
     "output_type": "display_data"
    }
   ],
   "source": [
    "# creating a numy array for x-axis\n",
    "x = np.arange(0, 10, 0.5)\n",
    "  \n",
    "# poisson distribution data for y-axis\n",
    "y = stats.poisson(2).sf(x)\n",
    "  \n",
    "# plotting the graph\n",
    "plt.step(x, y)\n",
    "plt.fill_between(x,y, step=\"pre\", alpha=0.4)\n",
    "# showing the graph\n",
    "plt.show()"
   ]
  },
  {
   "cell_type": "markdown",
   "id": "77187023",
   "metadata": {},
   "source": [
    "#### - How likely is it that the drive through gets at least 1 car?"
   ]
  },
  {
   "cell_type": "code",
   "execution_count": 97,
   "id": "3e61e4b6",
   "metadata": {},
   "outputs": [
    {
     "data": {
      "text/plain": [
       "0.8646647167633873"
      ]
     },
     "execution_count": 97,
     "metadata": {},
     "output_type": "execute_result"
    }
   ],
   "source": [
    "# How likely is it that the drive through gets at least 1 car?\n",
    "stats.poisson(2).sf(0) "
   ]
  },
  {
   "cell_type": "code",
   "execution_count": 98,
   "id": "3d467371",
   "metadata": {},
   "outputs": [
    {
     "data": {
      "image/png": "[encoded data removed]",
      "text/plain": [
       "<Figure size 432x288 with 1 Axes>"
      ]
     },
     "metadata": {
      "needs_background": "light"
     },
     "output_type": "display_data"
    }
   ],
   "source": [
    "# creating a numy array for x-axis\n",
    "x = np.arange(0, 10, 0.5)\n",
    "  \n",
    "# poisson distribution data for y-axis\n",
    "y = stats.poisson(2).sf(x)\n",
    "  \n",
    "# plotting the graph\n",
    "plt.step(x, y)\n",
    "plt.fill_between(x,y, step=\"pre\", alpha=0.4)\n",
    "# showing the graph\n",
    "plt.show()"
   ]
  },
  {
   "cell_type": "markdown",
   "id": "90ef06f4",
   "metadata": {},
   "source": [
    "### 2. Grades of State University graduates are normally distributed with a mean of 3.0 and a standard deviation of .3. Calculate the following:"
   ]
  },
  {
   "cell_type": "markdown",
   "id": "0d07c76a",
   "metadata": {},
   "source": [
    "#### What grade point average is required to be in the top 5% of the graduating class?\n"
   ]
  },
  {
   "cell_type": "code",
   "execution_count": 99,
   "id": "f3adca84",
   "metadata": {},
   "outputs": [
    {
     "data": {
      "text/plain": [
       "3.4934560880854417"
      ]
     },
     "execution_count": 99,
     "metadata": {},
     "output_type": "execute_result"
    }
   ],
   "source": [
    "#What grade point average is required to be in the top 5% of the graduating class?\n",
    "stats.norm(3, 0.3).isf(.05)"
   ]
  },
  {
   "cell_type": "code",
   "execution_count": 100,
   "id": "be0c4c6f",
   "metadata": {
    "scrolled": true
   },
   "outputs": [
    {
     "data": {
      "image/png": "[encoded data removed]",
      "text/plain": [
       "<Figure size 432x288 with 1 Axes>"
      ]
     },
     "metadata": {
      "needs_background": "light"
     },
     "output_type": "display_data"
    }
   ],
   "source": [
    "# creating a numy array for x-axis\n",
    "x = np.arange(0.01, 1, 0.05)\n",
    "  \n",
    "# poisson distribution data for y-axis\n",
    "y = stats.norm(3, 0.3).isf(x)\n",
    "  \n",
    "# plotting the graph\n",
    "plt.step(x, y)\n",
    "plt.fill_between(x,y, step=\"pre\", alpha=0.4)\n",
    "# showing the graph\n",
    "plt.show()"
   ]
  },
  {
   "cell_type": "markdown",
   "id": "146c3758",
   "metadata": {},
   "source": [
    "#### What GPA constitutes the bottom 15% of the class?\n"
   ]
  },
  {
   "cell_type": "code",
   "execution_count": 101,
   "id": "e209c356",
   "metadata": {},
   "outputs": [
    {
     "data": {
      "text/plain": [
       "2.689069983151863"
      ]
     },
     "execution_count": 101,
     "metadata": {},
     "output_type": "execute_result"
    }
   ],
   "source": [
    "# What GPA constitutes the bottom 15% of the class?\n",
    "stats.norm(3, 0.3).ppf(0.15)"
   ]
  },
  {
   "cell_type": "code",
   "execution_count": 102,
   "id": "916ab995",
   "metadata": {},
   "outputs": [
    {
     "data": {
      "image/png": "[encoded data removed]",
      "text/plain": [
       "<Figure size 432x288 with 1 Axes>"
      ]
     },
     "metadata": {
      "needs_background": "light"
     },
     "output_type": "display_data"
    }
   ],
   "source": [
    "# creating a numy array for x-axis\n",
    "x = np.arange(0.01, 1, 0.05)\n",
    "  \n",
    "# poisson distribution data for y-axis\n",
    "y = stats.norm(3, 0.3).ppf(x)\n",
    "  \n",
    "# plotting the graph\n",
    "plt.step(x, y)\n",
    "plt.fill_between(x,y, step=\"pre\", alpha=0.4)\n",
    "# showing the graph\n",
    "plt.show()"
   ]
  },
  {
   "cell_type": "markdown",
   "id": "8f2837e8",
   "metadata": {},
   "source": [
    "#### An eccentric alumnus left scholarship money for students in the third decile from the bottom of their class. Determine the range of the third decile. Would a student with a 2.8 grade point average qualify for this scholarship?\n"
   ]
  },
  {
   "cell_type": "code",
   "execution_count": 103,
   "id": "ef85c033",
   "metadata": {},
   "outputs": [
    {
     "name": "stdout",
     "output_type": "stream",
     "text": [
      "[2.74751363 2.84267985]\n"
     ]
    }
   ],
   "source": [
    "# An eccentric alumnus left scholarship money for students in the third decile from the bottom of their class. \n",
    "#Determine the range of the third decile. \n",
    "#Would a student with a 2.8 grade point average qualify for this scholarship? - Yes\n",
    "print(stats.norm(3, 0.3).ppf([0.2, 0.3]))"
   ]
  },
  {
   "cell_type": "code",
   "execution_count": 104,
   "id": "042aec81",
   "metadata": {},
   "outputs": [
    {
     "data": {
      "image/png": "[encoded data removed]",
      "text/plain": [
       "<Figure size 432x288 with 1 Axes>"
      ]
     },
     "metadata": {
      "needs_background": "light"
     },
     "output_type": "display_data"
    }
   ],
   "source": [
    "# creating a numy array for x-axis\n",
    "x = np.arange(0.2, 0.3, 0.01)\n",
    "  \n",
    "# poisson distribution data for y-axis\n",
    "y = stats.norm(3, 0.3).ppf(x)\n",
    "  \n",
    "# plotting the graph\n",
    "plt.step(x, y)\n",
    "plt.fill_between(x,y, step=\"pre\", alpha=0.4)\n",
    "# showing the graph\n",
    "plt.show()"
   ]
  },
  {
   "cell_type": "markdown",
   "id": "b660921c",
   "metadata": {},
   "source": [
    "#### If I have a GPA of 3.5, what percentile am I in?"
   ]
  },
  {
   "cell_type": "code",
   "execution_count": 160,
   "id": "fa1fb0e6",
   "metadata": {},
   "outputs": [
    {
     "data": {
      "text/plain": [
       "0.9522096477271853"
      ]
     },
     "execution_count": 160,
     "metadata": {},
     "output_type": "execute_result"
    }
   ],
   "source": [
    "stats.norm(3, 0.3).cdf(3.5)"
   ]
  },
  {
   "cell_type": "markdown",
   "id": "6e57eb16",
   "metadata": {},
   "source": [
    "### 3. A marketing website has an average click-through rate of 2%. One day they observe 4326 visitors and 97 click-throughs. How likely is it that this many people or more click through?"
   ]
  },
  {
   "cell_type": "code",
   "execution_count": 106,
   "id": "0abedb03",
   "metadata": {},
   "outputs": [
    {
     "data": {
      "text/plain": [
       "0.1397582363130086"
      ]
     },
     "execution_count": 106,
     "metadata": {},
     "output_type": "execute_result"
    }
   ],
   "source": [
    "stats.binom(4326, 0.02).sf(96)"
   ]
  },
  {
   "cell_type": "markdown",
   "id": "73393929",
   "metadata": {},
   "source": [
    "### 4. You are working on some statistics homework consisting of 100 questions where all of the answers are a probability rounded to the hundreths place. Looking to save time, you put down random probabilities as the answer to each question.\n",
    "- What is the probability that at least one of your first 60 answers is correct?"
   ]
  },
  {
   "cell_type": "code",
   "execution_count": 107,
   "id": "4747f0c3",
   "metadata": {},
   "outputs": [
    {
     "data": {
      "text/plain": [
       "0.4528433576092388"
      ]
     },
     "execution_count": 107,
     "metadata": {},
     "output_type": "execute_result"
    }
   ],
   "source": [
    "stats.binom(60, 0.01).sf(0)"
   ]
  },
  {
   "cell_type": "markdown",
   "id": "87a9b91c",
   "metadata": {},
   "source": [
    "### 5. The codeup staff tends to get upset when the student break area is not cleaned up. Suppose that there's a 3% chance that any one student cleans the break area when they visit it, and, on any given day, about 90% of the 3 active cohorts of 22 students visit the break area. \n",
    "- How likely is it that the break area gets cleaned up each day? \n",
    "- How likely is it that it goes two days without getting cleaned up? \n",
    "- All week?"
   ]
  },
  {
   "cell_type": "code",
   "execution_count": 108,
   "id": "dee8692c",
   "metadata": {},
   "outputs": [
    {
     "data": {
      "text/plain": [
       "0.8342199288437355"
      ]
     },
     "execution_count": 108,
     "metadata": {},
     "output_type": "execute_result"
    }
   ],
   "source": [
    "# How likely is it that the break area gets cleaned up each day?\n",
    "total_students = int(22*3*0.9)\n",
    "stats.binom(total_students, 0.03).sf(0)"
   ]
  },
  {
   "cell_type": "code",
   "execution_count": 117,
   "id": "746085ce",
   "metadata": {},
   "outputs": [
    {
     "data": {
      "text/plain": [
       "0.02748303199257623"
      ]
     },
     "execution_count": 117,
     "metadata": {},
     "output_type": "execute_result"
    }
   ],
   "source": [
    "# How likely is it that it goes two days without getting cleaned up?\n",
    "#stats.binom(total_students, 0.03).sf(3)\n",
    "stats.binom(total_students*2, 0.03).pmf(0) # 2 days"
   ]
  },
  {
   "cell_type": "code",
   "execution_count": 116,
   "id": "a5404338",
   "metadata": {},
   "outputs": [
    {
     "data": {
      "text/plain": [
       "0.00012521651388091353"
      ]
     },
     "execution_count": 116,
     "metadata": {},
     "output_type": "execute_result"
    }
   ],
   "source": [
    "# All week?\n",
    "stats.binom(total_students*5, 0.03).pmf(0) # 5 days"
   ]
  },
  {
   "cell_type": "markdown",
   "id": "10a57bdc",
   "metadata": {},
   "source": [
    "### 6. You want to get lunch at La Panaderia, but notice that the line is usually very long at lunchtime. After several weeks of careful observation, you notice that the average number of people in line when your lunch break starts is normally distributed with a mean of 15 and standard deviation of 3. If it takes 2 minutes for each person to order, and 10 minutes from ordering to getting your food, what is the likelihood that you have at least 15 minutes left to eat your food before you have to go back to class? Assume you have one hour for lunch, and ignore travel time to and from La Panaderia."
   ]
  },
  {
   "cell_type": "code",
   "execution_count": 131,
   "id": "ae02578f",
   "metadata": {},
   "outputs": [
    {
     "data": {
      "text/plain": [
       "0.6914624612740131"
      ]
     },
     "execution_count": 131,
     "metadata": {},
     "output_type": "execute_result"
    }
   ],
   "source": [
    "avg_line = 15\n",
    "line_sdv = 3\n",
    "order_time = 2 # In minutes\n",
    "order_wait = 10 # Wait time for order in minutes\n",
    "lunch_time = 60 # minutes\n",
    "stats.norm(avg_line * order_time, line_sdv * order_time).cdf(lunch_time - order_time - order_wait - 15)"
   ]
  },
  {
   "cell_type": "markdown",
   "id": "1d0ccb42",
   "metadata": {},
   "source": [
    "### 7. Connect to the employees database and find the average salary of current employees, along with the standard deviation. For the following questions, calculate the answer based on modeling the employees salaries with a normal distribution defined by the calculated mean and standard deviation then compare this answer to the actual values present in the salaries dataset.\n",
    "- What percent of employees earn less than 60,000?\n",
    "- What percent of employees earn more than 95,000?\n",
    "- What percent of employees earn between 65,000 and 80,000?\n",
    "- What do the top 5% of employees make?"
   ]
  },
  {
   "cell_type": "code",
   "execution_count": 141,
   "id": "ae36ce47",
   "metadata": {},
   "outputs": [],
   "source": [
    "from env import username, password, hostname\n",
    "url = f'mysql+pymysql://{username}:{password}@{hostname}/employees'\n",
    "salary_db = pd.read_sql('SELECT * FROM salaries WHERE to_date > NOW()', url) # Current Salaries"
   ]
  },
  {
   "cell_type": "code",
   "execution_count": 142,
   "id": "b58ea4b9",
   "metadata": {},
   "outputs": [
    {
     "data": {
      "text/html": [
       "<div>\n",
       "<style scoped>\n",
       "    .dataframe tbody tr th:only-of-type {\n",
       "        vertical-align: middle;\n",
       "    }\n",
       "\n",
       "    .dataframe tbody tr th {\n",
       "        vertical-align: top;\n",
       "    }\n",
       "\n",
       "    .dataframe thead th {\n",
       "        text-align: right;\n",
       "    }\n",
       "</style>\n",
       "<table border=\"1\" class=\"dataframe\">\n",
       "  <thead>\n",
       "    <tr style=\"text-align: right;\">\n",
       "      <th></th>\n",
       "      <th>emp_no</th>\n",
       "      <th>salary</th>\n",
       "      <th>from_date</th>\n",
       "      <th>to_date</th>\n",
       "    </tr>\n",
       "  </thead>\n",
       "  <tbody>\n",
       "    <tr>\n",
       "      <th>0</th>\n",
       "      <td>10001</td>\n",
       "      <td>88958</td>\n",
       "      <td>2002-06-22</td>\n",
       "      <td>9999-01-01</td>\n",
       "    </tr>\n",
       "    <tr>\n",
       "      <th>1</th>\n",
       "      <td>10002</td>\n",
       "      <td>72527</td>\n",
       "      <td>2001-08-02</td>\n",
       "      <td>9999-01-01</td>\n",
       "    </tr>\n",
       "    <tr>\n",
       "      <th>2</th>\n",
       "      <td>10003</td>\n",
       "      <td>43311</td>\n",
       "      <td>2001-12-01</td>\n",
       "      <td>9999-01-01</td>\n",
       "    </tr>\n",
       "    <tr>\n",
       "      <th>3</th>\n",
       "      <td>10004</td>\n",
       "      <td>74057</td>\n",
       "      <td>2001-11-27</td>\n",
       "      <td>9999-01-01</td>\n",
       "    </tr>\n",
       "    <tr>\n",
       "      <th>4</th>\n",
       "      <td>10005</td>\n",
       "      <td>94692</td>\n",
       "      <td>2001-09-09</td>\n",
       "      <td>9999-01-01</td>\n",
       "    </tr>\n",
       "  </tbody>\n",
       "</table>\n",
       "</div>"
      ],
      "text/plain": [
       "   emp_no  salary   from_date     to_date\n",
       "0   10001   88958  2002-06-22  9999-01-01\n",
       "1   10002   72527  2001-08-02  9999-01-01\n",
       "2   10003   43311  2001-12-01  9999-01-01\n",
       "3   10004   74057  2001-11-27  9999-01-01\n",
       "4   10005   94692  2001-09-09  9999-01-01"
      ]
     },
     "execution_count": 142,
     "metadata": {},
     "output_type": "execute_result"
    }
   ],
   "source": [
    "salary_db.head()"
   ]
  },
  {
   "cell_type": "code",
   "execution_count": 145,
   "id": "6da5eef6",
   "metadata": {},
   "outputs": [
    {
     "data": {
      "text/plain": [
       "72012.23585730705"
      ]
     },
     "execution_count": 145,
     "metadata": {},
     "output_type": "execute_result"
    }
   ],
   "source": [
    "salary_mean = salary_db.salary.mean() # Average salary of current employees\n",
    "salary_mean"
   ]
  },
  {
   "cell_type": "code",
   "execution_count": 147,
   "id": "9bb91cf5",
   "metadata": {},
   "outputs": [
    {
     "data": {
      "text/plain": [
       "17309.99538025198"
      ]
     },
     "execution_count": 147,
     "metadata": {},
     "output_type": "execute_result"
    }
   ],
   "source": [
    "salary_std = salary_db.salary.std() # Standard deviation of current salaries\n",
    "salary_std"
   ]
  },
  {
   "cell_type": "code",
   "execution_count": 150,
   "id": "cc9cfbd9",
   "metadata": {},
   "outputs": [
    {
     "data": {
      "text/plain": [
       "array([57647.54394885, 88551.0463453 , 81252.05688097, 58865.5173335 ,\n",
       "       64089.39443989, 77408.11050277, 67632.45602348, 99485.36288882,\n",
       "       66145.69949927, 46137.68054983])"
      ]
     },
     "execution_count": 150,
     "metadata": {},
     "output_type": "execute_result"
    }
   ],
   "source": [
    "stats.norm(salary_mean, salary_std).rvs(10)"
   ]
  },
  {
   "cell_type": "code",
   "execution_count": 154,
   "id": "4557ba72",
   "metadata": {},
   "outputs": [
    {
     "name": "stdout",
     "output_type": "stream",
     "text": [
      "72012.23585730705\n",
      "0.2705727041028802\n"
     ]
    },
    {
     "data": {
      "text/plain": [
       "0.24385742480214423"
      ]
     },
     "execution_count": 154,
     "metadata": {},
     "output_type": "execute_result"
    }
   ],
   "source": [
    "# What percent of employees earn less than 60,000?\n",
    "print(salary_db.salary.mean())\n",
    "print((salary_db.salary < 60000).mean()) # Actual\n",
    "stats.norm(salary_mean, salary_std).cdf(60_000)"
   ]
  },
  {
   "cell_type": "code",
   "execution_count": 152,
   "id": "df685f22",
   "metadata": {},
   "outputs": [
    {
     "data": {
      "text/plain": [
       "0.9079118080019595"
      ]
     },
     "execution_count": 152,
     "metadata": {},
     "output_type": "execute_result"
    }
   ],
   "source": [
    "# What percent of employees earn more than 95,000?\n",
    "stats.norm(salary_mean, salary_std).cdf(95_000)"
   ]
  },
  {
   "cell_type": "code",
   "execution_count": 157,
   "id": "d3f5acdb",
   "metadata": {},
   "outputs": [
    {
     "data": {
      "text/plain": [
       "0.3350605685446666"
      ]
     },
     "execution_count": 157,
     "metadata": {},
     "output_type": "execute_result"
    }
   ],
   "source": [
    "# What percent of employees earn between 65,000 and 80,000?\n",
    "stats.norm(salary_mean, salary_std).cdf(80_000) - stats.norm(salary_mean, salary_std).cdf(65_000)"
   ]
  },
  {
   "cell_type": "code",
   "execution_count": 159,
   "id": "3dc4a409",
   "metadata": {},
   "outputs": [
    {
     "data": {
      "text/plain": [
       "100484.64454102777"
      ]
     },
     "execution_count": 159,
     "metadata": {},
     "output_type": "execute_result"
    }
   ],
   "source": [
    "stats.norm(salary_mean, salary_std).isf(0.05)"
   ]
  },
  {
   "cell_type": "code",
   "execution_count": null,
   "id": "364e26cd",
   "metadata": {},
   "outputs": [],
   "source": []
  }
 ],
 "metadata": {
  "kernelspec": {
   "display_name": "Python 3",
   "language": "python",
   "name": "python3"
  },
  "language_info": {
   "codemirror_mode": {
    "name": "ipython",
    "version": 3
   },
   "file_extension": ".py",
   "mimetype": "text/x-python",
   "name": "python",
   "nbconvert_exporter": "python",
   "pygments_lexer": "ipython3",
   "version": "3.8.8"
  }
 },
 "nbformat": 4,
 "nbformat_minor": 5
}
