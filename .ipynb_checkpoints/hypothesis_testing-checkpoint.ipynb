{
 "cells": [
  {
   "cell_type": "markdown",
   "id": "e5cfb7fe",
   "metadata": {},
   "source": [
    "## For each of the following questions, formulate a null and alternative hypothesis (be as specific as you can be), then give an example of what a true positive, true negative, type I and type II errors would look like. Note that some of the questions are intentionally phrased in a vague way. It is your job to reword these as more precise questions that could be tested.\n",
    "- True Positive: Null is false and we rejected the null. \n",
    "- True Negative: Null is true and we accepted the null.\n",
    "- A type I error is when we reject the null hypothesis, but, in reality, the null hypothesis is true. (Rejecting null hypothisis incrorrectly)\n",
    "- A type II error is when we fail to reject the null hypothesis when it is actually false. p-value > alpha. (Rejecting alternative hypothisis incorrectly)\n",
    "- p-value: probability that we observed this result due to chance. if it's less than our alpha, we reject the null hypothesis...there IS a difference, or a relationship. p-value < alpha.\n"
   ]
  },
  {
   "cell_type": "markdown",
   "id": "8d0af8bd",
   "metadata": {},
   "source": [
    "### Has the network latency gone up since we switched internet service providers?\n"
   ]
  },
  {
   "cell_type": "markdown",
   "id": "b4728777",
   "metadata": {},
   "source": [
    "##### \n",
    "$H_{0}$ - Is the network latency the same or less since we switched internet service providers? \n",
    "\n",
    "$H_{a}$ - Is the network latency higher since we switched internet service providers? \n",
    "\n",
    "- True Positive: The latency is higher\n",
    "- True Negative: The latency is lower\n",
    "- Type I error: p-value > alpha. This would lead us to NOT reject the null hypothisis and believe that network latency was the same or less when in reality it was higher. \n",
    "- Type II error: p-value < alpha. This would lead us to believe that the null hypothisis was true when in reality network latency was the same or less. "
   ]
  },
  {
   "cell_type": "markdown",
   "id": "f643f856",
   "metadata": {},
   "source": [
    "### Is the website redesign any good?\n"
   ]
  },
  {
   "cell_type": "markdown",
   "id": "c378a318",
   "metadata": {},
   "source": [
    "##### \n",
    "$H_{0}$ - Has the new website maintained or decreased click through rate? \n",
    "\n",
    "$H_{a}$ - Has the new website increased clickthrough rate? \n",
    "\n",
    "- True Positive: Null is false and we rejected the null. So, in this case clickthrough rate has increased since implimenting the new site.\n",
    "- True Negative: Null is true and we accepted the null. Clickthrough rate has stayed the same or decreased. \n",
    "- Type I error: Rejected the null hypothesis, but, in reality, the null hypothesis is true. So, we think that the new website has increased clickthrough but it actually has not. \n",
    "- Type II error: Fail to reject the null hypothesis when it is actually false. So, we think that the new website has maintained or decreased clickthrough."
   ]
  },
  {
   "cell_type": "markdown",
   "id": "3872e698",
   "metadata": {},
   "source": [
    "### Is our television ad driving more sales?"
   ]
  },
  {
   "cell_type": "markdown",
   "id": "645de062",
   "metadata": {},
   "source": [
    "#### \n",
    "$H_{0}$ - Have our sales remained the same or decreased since running our ad?\n",
    "\n",
    "$H_{a}$ - Have our sales increased since running our ad?\n",
    "\n",
    "- True Positive: Null is false and we rejected the null. So, in this case the ad caused sales to increase.\n",
    "- True Negative: Null is true and we accepted the null. Sales remained the same or decreased dispite the ad.  \n",
    "- Type I error: Rejected the null hypothesis, but, in reality, the null hypothesis is true. So, we think that the ad has increased sales.\n",
    "- Type II error: Fail to reject the null hypothesis when it is actually false. So, we think that the ad has not increased sales. "
   ]
  },
  {
   "cell_type": "markdown",
   "id": "5979b6c1",
   "metadata": {},
   "source": [
    "### Ace Realty wants to determine whether the average time it takes to sell homes is different for its two offices. A sample of 40 sales from office #1 revealed a mean of 90 days and a standard deviation of 15 days. A sample of 50 sales from office #2 revealed a mean of 100 days and a standard deviation of 20 days. Use a .05 level of significance.\n",
    "\n"
   ]
  },
  {
   "cell_type": "code",
   "execution_count": 59,
   "id": "548ddca6",
   "metadata": {},
   "outputs": [],
   "source": [
    "from math import sqrt\n",
    "from scipy import stats\n",
    "\n",
    "%matplotlib inline\n",
    "import matplotlib.pyplot as plt\n",
    "import seaborn as sns\n",
    "import numpy as np\n",
    "import pandas as pd"
   ]
  },
  {
   "cell_type": "markdown",
   "id": "bf5cdf4a",
   "metadata": {},
   "source": [
    "#### Ho: Average time it takes to sell homes office one = Average time it takes to sell homes office two\n"
   ]
  },
  {
   "cell_type": "markdown",
   "id": "cc77185d",
   "metadata": {},
   "source": [
    "#### Ha: Average time it takes to sell homes office one != Average time it takes to sell homes office two"
   ]
  },
  {
   "cell_type": "code",
   "execution_count": 23,
   "id": "5c6210b3",
   "metadata": {
    "scrolled": true
   },
   "outputs": [
    {
     "data": {
      "text/plain": [
       "-2.6252287036468456"
      ]
     },
     "execution_count": 23,
     "metadata": {},
     "output_type": "execute_result"
    }
   ],
   "source": [
    "n1 = office1_sample = 40\n",
    "n2 = office2_sample = 50\n",
    "\n",
    "mu1 = office1_avg_days = 90\n",
    "mu2 = office2_avg_days = 100\n",
    "\n",
    "s1 = office1_stdv = 15\n",
    "s2 = office2_stdv = 20\n",
    "\n",
    "alpha = 0.05\n",
    "\n",
    "degf = office1_sample + office2_sample - 2\n",
    "\n",
    "s_p = sqrt(((n1 - 1) * s1**2 + (n2 - 1) * s2**2) / (n1 + n2 - 2))\n",
    "s_p\n",
    "\n",
    "standard_error = se = sqrt(s1**2 / n1 + s2**2 / n2)\n",
    "\n",
    "t = (mu1 - mu2) / (s_p * sqrt(1/n1 + 1/n2))\n",
    "t"
   ]
  },
  {
   "cell_type": "code",
   "execution_count": 30,
   "id": "c42b2e45",
   "metadata": {},
   "outputs": [
    {
     "data": {
      "text/plain": [
       "0.01020985244923939"
      ]
     },
     "execution_count": 30,
     "metadata": {},
     "output_type": "execute_result"
    }
   ],
   "source": [
    "p = stats.t(degf).cdf(t) * 2\n",
    "p"
   ]
  },
  {
   "cell_type": "code",
   "execution_count": 28,
   "id": "7c472a08",
   "metadata": {},
   "outputs": [
    {
     "data": {
      "text/plain": [
       "(-2.6252287036468456, 0.01020985244923939)"
      ]
     },
     "execution_count": 28,
     "metadata": {},
     "output_type": "execute_result"
    }
   ],
   "source": [
    "t, p = stats.ttest_ind_from_stats(90, 15, 40, 100, 20, 50)\n",
    "t,p"
   ]
  },
  {
   "cell_type": "markdown",
   "id": "be37fe42",
   "metadata": {},
   "source": [
    "##### We can reject the null hypothesis "
   ]
  },
  {
   "cell_type": "markdown",
   "id": "b1625420",
   "metadata": {},
   "source": [
    "### Load the mpg dataset and use it to answer the following questions:\n",
    "\n"
   ]
  },
  {
   "cell_type": "code",
   "execution_count": 40,
   "id": "0e2821fc",
   "metadata": {},
   "outputs": [
    {
     "data": {
      "text/html": [
       "<div>\n",
       "<style scoped>\n",
       "    .dataframe tbody tr th:only-of-type {\n",
       "        vertical-align: middle;\n",
       "    }\n",
       "\n",
       "    .dataframe tbody tr th {\n",
       "        vertical-align: top;\n",
       "    }\n",
       "\n",
       "    .dataframe thead th {\n",
       "        text-align: right;\n",
       "    }\n",
       "</style>\n",
       "<table border=\"1\" class=\"dataframe\">\n",
       "  <thead>\n",
       "    <tr style=\"text-align: right;\">\n",
       "      <th></th>\n",
       "      <th>manufacturer</th>\n",
       "      <th>model</th>\n",
       "      <th>displ</th>\n",
       "      <th>year</th>\n",
       "      <th>cyl</th>\n",
       "      <th>trans</th>\n",
       "      <th>drv</th>\n",
       "      <th>cty</th>\n",
       "      <th>hwy</th>\n",
       "      <th>fl</th>\n",
       "      <th>class</th>\n",
       "    </tr>\n",
       "  </thead>\n",
       "  <tbody>\n",
       "    <tr>\n",
       "      <th>1</th>\n",
       "      <td>audi</td>\n",
       "      <td>a4</td>\n",
       "      <td>1.8</td>\n",
       "      <td>1999</td>\n",
       "      <td>4</td>\n",
       "      <td>auto(l5)</td>\n",
       "      <td>f</td>\n",
       "      <td>18</td>\n",
       "      <td>29</td>\n",
       "      <td>p</td>\n",
       "      <td>compact</td>\n",
       "    </tr>\n",
       "    <tr>\n",
       "      <th>2</th>\n",
       "      <td>audi</td>\n",
       "      <td>a4</td>\n",
       "      <td>1.8</td>\n",
       "      <td>1999</td>\n",
       "      <td>4</td>\n",
       "      <td>manual(m5)</td>\n",
       "      <td>f</td>\n",
       "      <td>21</td>\n",
       "      <td>29</td>\n",
       "      <td>p</td>\n",
       "      <td>compact</td>\n",
       "    </tr>\n",
       "    <tr>\n",
       "      <th>3</th>\n",
       "      <td>audi</td>\n",
       "      <td>a4</td>\n",
       "      <td>2.0</td>\n",
       "      <td>2008</td>\n",
       "      <td>4</td>\n",
       "      <td>manual(m6)</td>\n",
       "      <td>f</td>\n",
       "      <td>20</td>\n",
       "      <td>31</td>\n",
       "      <td>p</td>\n",
       "      <td>compact</td>\n",
       "    </tr>\n",
       "    <tr>\n",
       "      <th>4</th>\n",
       "      <td>audi</td>\n",
       "      <td>a4</td>\n",
       "      <td>2.0</td>\n",
       "      <td>2008</td>\n",
       "      <td>4</td>\n",
       "      <td>auto(av)</td>\n",
       "      <td>f</td>\n",
       "      <td>21</td>\n",
       "      <td>30</td>\n",
       "      <td>p</td>\n",
       "      <td>compact</td>\n",
       "    </tr>\n",
       "    <tr>\n",
       "      <th>5</th>\n",
       "      <td>audi</td>\n",
       "      <td>a4</td>\n",
       "      <td>2.8</td>\n",
       "      <td>1999</td>\n",
       "      <td>6</td>\n",
       "      <td>auto(l5)</td>\n",
       "      <td>f</td>\n",
       "      <td>16</td>\n",
       "      <td>26</td>\n",
       "      <td>p</td>\n",
       "      <td>compact</td>\n",
       "    </tr>\n",
       "  </tbody>\n",
       "</table>\n",
       "</div>"
      ],
      "text/plain": [
       "  manufacturer model  displ  year  cyl       trans drv  cty  hwy fl    class\n",
       "1         audi    a4    1.8  1999    4    auto(l5)   f   18   29  p  compact\n",
       "2         audi    a4    1.8  1999    4  manual(m5)   f   21   29  p  compact\n",
       "3         audi    a4    2.0  2008    4  manual(m6)   f   20   31  p  compact\n",
       "4         audi    a4    2.0  2008    4    auto(av)   f   21   30  p  compact\n",
       "5         audi    a4    2.8  1999    6    auto(l5)   f   16   26  p  compact"
      ]
     },
     "execution_count": 40,
     "metadata": {},
     "output_type": "execute_result"
    }
   ],
   "source": [
    "from pydataset import data\n",
    "mpg = data('mpg')\n",
    "mpg.head()\n"
   ]
  },
  {
   "cell_type": "code",
   "execution_count": 120,
   "id": "68433a81",
   "metadata": {},
   "outputs": [
    {
     "data": {
      "image/png": "[encoded data removed]",
      "text/plain": [
       "<Figure size 1080x1080 with 27 Axes>"
      ]
     },
     "metadata": {
      "needs_background": "light"
     },
     "output_type": "display_data"
    }
   ],
   "source": [
    "sns.pairplot(mpg, corner=True)\n",
    "plt.suptitle(\"sns.pairplot visualizes continuous variable relationships\")\n",
    "plt.show()"
   ]
  },
  {
   "cell_type": "code",
   "execution_count": 121,
   "id": "ec99458f",
   "metadata": {},
   "outputs": [
    {
     "data": {
      "text/html": [
       "<div>\n",
       "<style scoped>\n",
       "    .dataframe tbody tr th:only-of-type {\n",
       "        vertical-align: middle;\n",
       "    }\n",
       "\n",
       "    .dataframe tbody tr th {\n",
       "        vertical-align: top;\n",
       "    }\n",
       "\n",
       "    .dataframe thead th {\n",
       "        text-align: right;\n",
       "    }\n",
       "</style>\n",
       "<table border=\"1\" class=\"dataframe\">\n",
       "  <thead>\n",
       "    <tr style=\"text-align: right;\">\n",
       "      <th></th>\n",
       "      <th>displ</th>\n",
       "      <th>year</th>\n",
       "      <th>cyl</th>\n",
       "      <th>cty</th>\n",
       "      <th>hwy</th>\n",
       "      <th>avg_mpg</th>\n",
       "    </tr>\n",
       "  </thead>\n",
       "  <tbody>\n",
       "    <tr>\n",
       "      <th>displ</th>\n",
       "      <td>1.000000</td>\n",
       "      <td>0.147843</td>\n",
       "      <td>0.930227</td>\n",
       "      <td>-0.798524</td>\n",
       "      <td>-0.766020</td>\n",
       "      <td>-0.788059</td>\n",
       "    </tr>\n",
       "    <tr>\n",
       "      <th>year</th>\n",
       "      <td>0.147843</td>\n",
       "      <td>1.000000</td>\n",
       "      <td>0.122245</td>\n",
       "      <td>-0.037232</td>\n",
       "      <td>0.002158</td>\n",
       "      <td>-0.014416</td>\n",
       "    </tr>\n",
       "    <tr>\n",
       "      <th>cyl</th>\n",
       "      <td>0.930227</td>\n",
       "      <td>0.122245</td>\n",
       "      <td>1.000000</td>\n",
       "      <td>-0.805771</td>\n",
       "      <td>-0.761912</td>\n",
       "      <td>-0.788691</td>\n",
       "    </tr>\n",
       "    <tr>\n",
       "      <th>cty</th>\n",
       "      <td>-0.798524</td>\n",
       "      <td>-0.037232</td>\n",
       "      <td>-0.805771</td>\n",
       "      <td>1.000000</td>\n",
       "      <td>0.955916</td>\n",
       "      <td>0.984902</td>\n",
       "    </tr>\n",
       "    <tr>\n",
       "      <th>hwy</th>\n",
       "      <td>-0.766020</td>\n",
       "      <td>0.002158</td>\n",
       "      <td>-0.761912</td>\n",
       "      <td>0.955916</td>\n",
       "      <td>1.000000</td>\n",
       "      <td>0.992316</td>\n",
       "    </tr>\n",
       "    <tr>\n",
       "      <th>avg_mpg</th>\n",
       "      <td>-0.788059</td>\n",
       "      <td>-0.014416</td>\n",
       "      <td>-0.788691</td>\n",
       "      <td>0.984902</td>\n",
       "      <td>0.992316</td>\n",
       "      <td>1.000000</td>\n",
       "    </tr>\n",
       "  </tbody>\n",
       "</table>\n",
       "</div>"
      ],
      "text/plain": [
       "            displ      year       cyl       cty       hwy   avg_mpg\n",
       "displ    1.000000  0.147843  0.930227 -0.798524 -0.766020 -0.788059\n",
       "year     0.147843  1.000000  0.122245 -0.037232  0.002158 -0.014416\n",
       "cyl      0.930227  0.122245  1.000000 -0.805771 -0.761912 -0.788691\n",
       "cty     -0.798524 -0.037232 -0.805771  1.000000  0.955916  0.984902\n",
       "hwy     -0.766020  0.002158 -0.761912  0.955916  1.000000  0.992316\n",
       "avg_mpg -0.788059 -0.014416 -0.788691  0.984902  0.992316  1.000000"
      ]
     },
     "execution_count": 121,
     "metadata": {},
     "output_type": "execute_result"
    }
   ],
   "source": [
    "mpg.corr()"
   ]
  },
  {
   "cell_type": "markdown",
   "id": "872ad5dc",
   "metadata": {},
   "source": [
    "### Is there a difference in fuel-efficiency in cars from 2008 vs 1999?\n",
    "- Ho: Fuel efficiency in 1999 = Fuel efficiency in 2008\n",
    "- Ha: Fuel efficiency in 1999 != Fuel efficiency in 2008\n"
   ]
  },
  {
   "cell_type": "code",
   "execution_count": 57,
   "id": "caab9108",
   "metadata": {},
   "outputs": [
    {
     "data": {
      "text/html": [
       "<div>\n",
       "<style scoped>\n",
       "    .dataframe tbody tr th:only-of-type {\n",
       "        vertical-align: middle;\n",
       "    }\n",
       "\n",
       "    .dataframe tbody tr th {\n",
       "        vertical-align: top;\n",
       "    }\n",
       "\n",
       "    .dataframe thead th {\n",
       "        text-align: right;\n",
       "    }\n",
       "</style>\n",
       "<table border=\"1\" class=\"dataframe\">\n",
       "  <thead>\n",
       "    <tr style=\"text-align: right;\">\n",
       "      <th></th>\n",
       "      <th>manufacturer</th>\n",
       "      <th>model</th>\n",
       "      <th>displ</th>\n",
       "      <th>year</th>\n",
       "      <th>cyl</th>\n",
       "      <th>trans</th>\n",
       "      <th>drv</th>\n",
       "      <th>cty</th>\n",
       "      <th>hwy</th>\n",
       "      <th>fl</th>\n",
       "      <th>class</th>\n",
       "      <th>avg_mpg</th>\n",
       "    </tr>\n",
       "  </thead>\n",
       "  <tbody>\n",
       "    <tr>\n",
       "      <th>1</th>\n",
       "      <td>audi</td>\n",
       "      <td>a4</td>\n",
       "      <td>1.8</td>\n",
       "      <td>1999</td>\n",
       "      <td>4</td>\n",
       "      <td>auto(l5)</td>\n",
       "      <td>f</td>\n",
       "      <td>18</td>\n",
       "      <td>29</td>\n",
       "      <td>p</td>\n",
       "      <td>compact</td>\n",
       "      <td>23.5</td>\n",
       "    </tr>\n",
       "    <tr>\n",
       "      <th>2</th>\n",
       "      <td>audi</td>\n",
       "      <td>a4</td>\n",
       "      <td>1.8</td>\n",
       "      <td>1999</td>\n",
       "      <td>4</td>\n",
       "      <td>manual(m5)</td>\n",
       "      <td>f</td>\n",
       "      <td>21</td>\n",
       "      <td>29</td>\n",
       "      <td>p</td>\n",
       "      <td>compact</td>\n",
       "      <td>25.0</td>\n",
       "    </tr>\n",
       "    <tr>\n",
       "      <th>3</th>\n",
       "      <td>audi</td>\n",
       "      <td>a4</td>\n",
       "      <td>2.0</td>\n",
       "      <td>2008</td>\n",
       "      <td>4</td>\n",
       "      <td>manual(m6)</td>\n",
       "      <td>f</td>\n",
       "      <td>20</td>\n",
       "      <td>31</td>\n",
       "      <td>p</td>\n",
       "      <td>compact</td>\n",
       "      <td>25.5</td>\n",
       "    </tr>\n",
       "    <tr>\n",
       "      <th>4</th>\n",
       "      <td>audi</td>\n",
       "      <td>a4</td>\n",
       "      <td>2.0</td>\n",
       "      <td>2008</td>\n",
       "      <td>4</td>\n",
       "      <td>auto(av)</td>\n",
       "      <td>f</td>\n",
       "      <td>21</td>\n",
       "      <td>30</td>\n",
       "      <td>p</td>\n",
       "      <td>compact</td>\n",
       "      <td>25.5</td>\n",
       "    </tr>\n",
       "    <tr>\n",
       "      <th>5</th>\n",
       "      <td>audi</td>\n",
       "      <td>a4</td>\n",
       "      <td>2.8</td>\n",
       "      <td>1999</td>\n",
       "      <td>6</td>\n",
       "      <td>auto(l5)</td>\n",
       "      <td>f</td>\n",
       "      <td>16</td>\n",
       "      <td>26</td>\n",
       "      <td>p</td>\n",
       "      <td>compact</td>\n",
       "      <td>21.0</td>\n",
       "    </tr>\n",
       "  </tbody>\n",
       "</table>\n",
       "</div>"
      ],
      "text/plain": [
       "  manufacturer model  displ  year  cyl       trans drv  cty  hwy fl    class  \\\n",
       "1         audi    a4    1.8  1999    4    auto(l5)   f   18   29  p  compact   \n",
       "2         audi    a4    1.8  1999    4  manual(m5)   f   21   29  p  compact   \n",
       "3         audi    a4    2.0  2008    4  manual(m6)   f   20   31  p  compact   \n",
       "4         audi    a4    2.0  2008    4    auto(av)   f   21   30  p  compact   \n",
       "5         audi    a4    2.8  1999    6    auto(l5)   f   16   26  p  compact   \n",
       "\n",
       "   avg_mpg  \n",
       "1     23.5  \n",
       "2     25.0  \n",
       "3     25.5  \n",
       "4     25.5  \n",
       "5     21.0  "
      ]
     },
     "execution_count": 57,
     "metadata": {},
     "output_type": "execute_result"
    }
   ],
   "source": [
    "year_diff_df = mpg[(mpg.year==1999) | (mpg.year==2008)]\n",
    "\n",
    "year_diff_df[\"avg_mpg\"] = year_diff_df[[\"cty\", \"hwy\"]].mean(axis=1)\n",
    "\n",
    "year_diff_df.head()"
   ]
  },
  {
   "cell_type": "code",
   "execution_count": 87,
   "id": "e0b9b469",
   "metadata": {},
   "outputs": [
    {
     "data": {
      "image/png": "[encoded data removed]",
      "text/plain": [
       "<Figure size 360x360 with 1 Axes>"
      ]
     },
     "metadata": {
      "needs_background": "light"
     },
     "output_type": "display_data"
    }
   ],
   "source": [
    "sns.displot(year_diff_df.avg_mpg)\n",
    "\n",
    "# a = year_diff_df[year_diff_df.year == 1999].avg_mpg\n",
    "# b = year_diff_df[year_diff_df.year == 2008].avg_mpg\n",
    "# sns.displot([a, b], color=['blue','green'], alpha=0.5)\n",
    "\n",
    "plt.show()"
   ]
  },
  {
   "cell_type": "code",
   "execution_count": 113,
   "id": "2be76b0d",
   "metadata": {},
   "outputs": [
    {
     "data": {
      "image/png": "[encoded data removed]",
      "text/plain": [
       "<Figure size 360x360 with 1 Axes>"
      ]
     },
     "metadata": {
      "needs_background": "light"
     },
     "output_type": "display_data"
    }
   ],
   "source": [
    "# 1999 cars average mpg\n",
    "sns.displot(year_diff_df[year_diff_df.year == 1999].avg_mpg)\n",
    "plt.show()"
   ]
  },
  {
   "cell_type": "code",
   "execution_count": 114,
   "id": "88757bce",
   "metadata": {},
   "outputs": [
    {
     "data": {
      "image/png": "[encoded data removed]",
      "text/plain": [
       "<Figure size 360x360 with 1 Axes>"
      ]
     },
     "metadata": {
      "needs_background": "light"
     },
     "output_type": "display_data"
    }
   ],
   "source": [
    "# 2008 cars average mpg\n",
    "sns.displot(year_diff_df[year_diff_df.year == 2008].avg_mpg)\n",
    "plt.show()"
   ]
  },
  {
   "cell_type": "code",
   "execution_count": 73,
   "id": "945a4403",
   "metadata": {},
   "outputs": [
    {
     "data": {
      "text/plain": [
       "(20.22222222222222, 20.076923076923077)"
      ]
     },
     "execution_count": 73,
     "metadata": {},
     "output_type": "execute_result"
    }
   ],
   "source": [
    "yr99 = year_diff_df[year_diff_df.year == 1999].avg_mpg.mean()\n",
    "yr08 = year_diff_df[year_diff_df.year == 2008].avg_mpg.mean()\n",
    "yr99, yr08"
   ]
  },
  {
   "cell_type": "code",
   "execution_count": 88,
   "id": "ff365d3c",
   "metadata": {},
   "outputs": [
    {
     "data": {
      "text/plain": [
       "(0.21960177245940962, 0.8263744040323578)"
      ]
     },
     "execution_count": 88,
     "metadata": {},
     "output_type": "execute_result"
    }
   ],
   "source": [
    "#yr99 = year_diff_df.avg_mpg.where(year_diff_df.year == 1999)\n",
    "#yr08 = year_diff_df.avg_mpg.where(year_diff_df.year == 2008)\n",
    "\n",
    "yr99 = year_diff_df[year_diff_df.year == 1999].avg_mpg\n",
    "yr08 = year_diff_df[year_diff_df.year == 2008].avg_mpg\n",
    "\n",
    "t, p = stats.ttest_ind(yr99, yr08)\n",
    "t, p"
   ]
  },
  {
   "cell_type": "markdown",
   "id": "8a291066",
   "metadata": {},
   "source": [
    "##### p>0.05, Therefore, there is not a significant difference in fuel efficiency between 1999 and 2008 cars"
   ]
  },
  {
   "cell_type": "markdown",
   "id": "b99f64bd",
   "metadata": {},
   "source": [
    "### Are compact cars more fuel-efficient than the average car?\n",
    "- Ho: Compact car efficiency <= average car\n",
    "- Ha: Compact car efficiency > average car"
   ]
  },
  {
   "cell_type": "code",
   "execution_count": 93,
   "id": "a2d7fb31",
   "metadata": {},
   "outputs": [],
   "source": [
    "# Change 'class' column name\n",
    "mpg = mpg.rename(columns={'class': 'typ'})"
   ]
  },
  {
   "cell_type": "code",
   "execution_count": 94,
   "id": "63bcd722",
   "metadata": {},
   "outputs": [
    {
     "data": {
      "text/html": [
       "<div>\n",
       "<style scoped>\n",
       "    .dataframe tbody tr th:only-of-type {\n",
       "        vertical-align: middle;\n",
       "    }\n",
       "\n",
       "    .dataframe tbody tr th {\n",
       "        vertical-align: top;\n",
       "    }\n",
       "\n",
       "    .dataframe thead th {\n",
       "        text-align: right;\n",
       "    }\n",
       "</style>\n",
       "<table border=\"1\" class=\"dataframe\">\n",
       "  <thead>\n",
       "    <tr style=\"text-align: right;\">\n",
       "      <th></th>\n",
       "      <th>manufacturer</th>\n",
       "      <th>model</th>\n",
       "      <th>displ</th>\n",
       "      <th>year</th>\n",
       "      <th>cyl</th>\n",
       "      <th>trans</th>\n",
       "      <th>drv</th>\n",
       "      <th>cty</th>\n",
       "      <th>hwy</th>\n",
       "      <th>fl</th>\n",
       "      <th>typ</th>\n",
       "    </tr>\n",
       "  </thead>\n",
       "  <tbody>\n",
       "    <tr>\n",
       "      <th>1</th>\n",
       "      <td>audi</td>\n",
       "      <td>a4</td>\n",
       "      <td>1.8</td>\n",
       "      <td>1999</td>\n",
       "      <td>4</td>\n",
       "      <td>auto(l5)</td>\n",
       "      <td>f</td>\n",
       "      <td>18</td>\n",
       "      <td>29</td>\n",
       "      <td>p</td>\n",
       "      <td>compact</td>\n",
       "    </tr>\n",
       "    <tr>\n",
       "      <th>2</th>\n",
       "      <td>audi</td>\n",
       "      <td>a4</td>\n",
       "      <td>1.8</td>\n",
       "      <td>1999</td>\n",
       "      <td>4</td>\n",
       "      <td>manual(m5)</td>\n",
       "      <td>f</td>\n",
       "      <td>21</td>\n",
       "      <td>29</td>\n",
       "      <td>p</td>\n",
       "      <td>compact</td>\n",
       "    </tr>\n",
       "    <tr>\n",
       "      <th>3</th>\n",
       "      <td>audi</td>\n",
       "      <td>a4</td>\n",
       "      <td>2.0</td>\n",
       "      <td>2008</td>\n",
       "      <td>4</td>\n",
       "      <td>manual(m6)</td>\n",
       "      <td>f</td>\n",
       "      <td>20</td>\n",
       "      <td>31</td>\n",
       "      <td>p</td>\n",
       "      <td>compact</td>\n",
       "    </tr>\n",
       "    <tr>\n",
       "      <th>4</th>\n",
       "      <td>audi</td>\n",
       "      <td>a4</td>\n",
       "      <td>2.0</td>\n",
       "      <td>2008</td>\n",
       "      <td>4</td>\n",
       "      <td>auto(av)</td>\n",
       "      <td>f</td>\n",
       "      <td>21</td>\n",
       "      <td>30</td>\n",
       "      <td>p</td>\n",
       "      <td>compact</td>\n",
       "    </tr>\n",
       "    <tr>\n",
       "      <th>5</th>\n",
       "      <td>audi</td>\n",
       "      <td>a4</td>\n",
       "      <td>2.8</td>\n",
       "      <td>1999</td>\n",
       "      <td>6</td>\n",
       "      <td>auto(l5)</td>\n",
       "      <td>f</td>\n",
       "      <td>16</td>\n",
       "      <td>26</td>\n",
       "      <td>p</td>\n",
       "      <td>compact</td>\n",
       "    </tr>\n",
       "  </tbody>\n",
       "</table>\n",
       "</div>"
      ],
      "text/plain": [
       "  manufacturer model  displ  year  cyl       trans drv  cty  hwy fl      typ\n",
       "1         audi    a4    1.8  1999    4    auto(l5)   f   18   29  p  compact\n",
       "2         audi    a4    1.8  1999    4  manual(m5)   f   21   29  p  compact\n",
       "3         audi    a4    2.0  2008    4  manual(m6)   f   20   31  p  compact\n",
       "4         audi    a4    2.0  2008    4    auto(av)   f   21   30  p  compact\n",
       "5         audi    a4    2.8  1999    6    auto(l5)   f   16   26  p  compact"
      ]
     },
     "execution_count": 94,
     "metadata": {},
     "output_type": "execute_result"
    }
   ],
   "source": [
    "mpg.head()"
   ]
  },
  {
   "cell_type": "code",
   "execution_count": 99,
   "id": "565de831",
   "metadata": {},
   "outputs": [
    {
     "data": {
      "text/plain": [
       "234"
      ]
     },
     "execution_count": 99,
     "metadata": {},
     "output_type": "execute_result"
    }
   ],
   "source": [
    "mpg.typ[mpg.typ == \"compact\"].count()\n",
    "mpg.typ.count()"
   ]
  },
  {
   "cell_type": "code",
   "execution_count": 100,
   "id": "6557436a",
   "metadata": {},
   "outputs": [
    {
     "data": {
      "text/html": [
       "<div>\n",
       "<style scoped>\n",
       "    .dataframe tbody tr th:only-of-type {\n",
       "        vertical-align: middle;\n",
       "    }\n",
       "\n",
       "    .dataframe tbody tr th {\n",
       "        vertical-align: top;\n",
       "    }\n",
       "\n",
       "    .dataframe thead th {\n",
       "        text-align: right;\n",
       "    }\n",
       "</style>\n",
       "<table border=\"1\" class=\"dataframe\">\n",
       "  <thead>\n",
       "    <tr style=\"text-align: right;\">\n",
       "      <th></th>\n",
       "      <th>manufacturer</th>\n",
       "      <th>model</th>\n",
       "      <th>displ</th>\n",
       "      <th>year</th>\n",
       "      <th>cyl</th>\n",
       "      <th>trans</th>\n",
       "      <th>drv</th>\n",
       "      <th>cty</th>\n",
       "      <th>hwy</th>\n",
       "      <th>fl</th>\n",
       "      <th>typ</th>\n",
       "      <th>avg_mpg</th>\n",
       "    </tr>\n",
       "  </thead>\n",
       "  <tbody>\n",
       "    <tr>\n",
       "      <th>1</th>\n",
       "      <td>audi</td>\n",
       "      <td>a4</td>\n",
       "      <td>1.8</td>\n",
       "      <td>1999</td>\n",
       "      <td>4</td>\n",
       "      <td>auto(l5)</td>\n",
       "      <td>f</td>\n",
       "      <td>18</td>\n",
       "      <td>29</td>\n",
       "      <td>p</td>\n",
       "      <td>compact</td>\n",
       "      <td>23.5</td>\n",
       "    </tr>\n",
       "    <tr>\n",
       "      <th>2</th>\n",
       "      <td>audi</td>\n",
       "      <td>a4</td>\n",
       "      <td>1.8</td>\n",
       "      <td>1999</td>\n",
       "      <td>4</td>\n",
       "      <td>manual(m5)</td>\n",
       "      <td>f</td>\n",
       "      <td>21</td>\n",
       "      <td>29</td>\n",
       "      <td>p</td>\n",
       "      <td>compact</td>\n",
       "      <td>25.0</td>\n",
       "    </tr>\n",
       "    <tr>\n",
       "      <th>3</th>\n",
       "      <td>audi</td>\n",
       "      <td>a4</td>\n",
       "      <td>2.0</td>\n",
       "      <td>2008</td>\n",
       "      <td>4</td>\n",
       "      <td>manual(m6)</td>\n",
       "      <td>f</td>\n",
       "      <td>20</td>\n",
       "      <td>31</td>\n",
       "      <td>p</td>\n",
       "      <td>compact</td>\n",
       "      <td>25.5</td>\n",
       "    </tr>\n",
       "    <tr>\n",
       "      <th>4</th>\n",
       "      <td>audi</td>\n",
       "      <td>a4</td>\n",
       "      <td>2.0</td>\n",
       "      <td>2008</td>\n",
       "      <td>4</td>\n",
       "      <td>auto(av)</td>\n",
       "      <td>f</td>\n",
       "      <td>21</td>\n",
       "      <td>30</td>\n",
       "      <td>p</td>\n",
       "      <td>compact</td>\n",
       "      <td>25.5</td>\n",
       "    </tr>\n",
       "    <tr>\n",
       "      <th>5</th>\n",
       "      <td>audi</td>\n",
       "      <td>a4</td>\n",
       "      <td>2.8</td>\n",
       "      <td>1999</td>\n",
       "      <td>6</td>\n",
       "      <td>auto(l5)</td>\n",
       "      <td>f</td>\n",
       "      <td>16</td>\n",
       "      <td>26</td>\n",
       "      <td>p</td>\n",
       "      <td>compact</td>\n",
       "      <td>21.0</td>\n",
       "    </tr>\n",
       "  </tbody>\n",
       "</table>\n",
       "</div>"
      ],
      "text/plain": [
       "  manufacturer model  displ  year  cyl       trans drv  cty  hwy fl      typ  \\\n",
       "1         audi    a4    1.8  1999    4    auto(l5)   f   18   29  p  compact   \n",
       "2         audi    a4    1.8  1999    4  manual(m5)   f   21   29  p  compact   \n",
       "3         audi    a4    2.0  2008    4  manual(m6)   f   20   31  p  compact   \n",
       "4         audi    a4    2.0  2008    4    auto(av)   f   21   30  p  compact   \n",
       "5         audi    a4    2.8  1999    6    auto(l5)   f   16   26  p  compact   \n",
       "\n",
       "   avg_mpg  \n",
       "1     23.5  \n",
       "2     25.0  \n",
       "3     25.5  \n",
       "4     25.5  \n",
       "5     21.0  "
      ]
     },
     "execution_count": 100,
     "metadata": {},
     "output_type": "execute_result"
    }
   ],
   "source": [
    "# Add average mgp column\n",
    "mpg[\"avg_mpg\"] = mpg[[\"cty\", \"hwy\"]].mean(axis=1)\n",
    "mpg.head()"
   ]
  },
  {
   "cell_type": "code",
   "execution_count": 116,
   "id": "858267e5",
   "metadata": {},
   "outputs": [
    {
     "data": {
      "image/png": "[encoded data removed]",
      "text/plain": [
       "<Figure size 360x360 with 1 Axes>"
      ]
     },
     "metadata": {
      "needs_background": "light"
     },
     "output_type": "display_data"
    }
   ],
   "source": [
    "# compact car's average mpg\n",
    "sns.displot(mpg[mpg.typ == \"compact\"].avg_mpg)\n",
    "plt.show()"
   ]
  },
  {
   "cell_type": "code",
   "execution_count": 117,
   "id": "00a91d28",
   "metadata": {},
   "outputs": [
    {
     "data": {
      "image/png": "[encoded data removed]",
      "text/plain": [
       "<Figure size 360x360 with 1 Axes>"
      ]
     },
     "metadata": {
      "needs_background": "light"
     },
     "output_type": "display_data"
    }
   ],
   "source": [
    "# All car's average mpg\n",
    "sns.displot(mpg.avg_mpg)\n",
    "plt.show()"
   ]
  },
  {
   "cell_type": "code",
   "execution_count": 105,
   "id": "0e6e6f9c",
   "metadata": {},
   "outputs": [
    {
     "data": {
      "text/plain": [
       "(7.896888573132535, 4.1985637943171336e-10)"
      ]
     },
     "execution_count": 105,
     "metadata": {},
     "output_type": "execute_result"
    }
   ],
   "source": [
    "compact_mpg = mpg[mpg.typ == \"compact\"].avg_mpg\n",
    "\n",
    "t, p = stats.ttest_1samp(compact_mpg, mpg.avg_mpg.mean())\n",
    "t, p"
   ]
  },
  {
   "cell_type": "markdown",
   "id": "30fbe9ba",
   "metadata": {},
   "source": [
    "##### p<0.05 Therefore, we reject the null hypothesis, and can say that compact cars on average are more efficient than the whole"
   ]
  },
  {
   "cell_type": "markdown",
   "id": "5cfbcd60",
   "metadata": {},
   "source": [
    "### Do manual cars get better gas mileage than automatic cars?\n",
    "- Ho: Manual car gas milage <= automatic car\n",
    "- Ha: Manual car gas milage > automatic car"
   ]
  },
  {
   "cell_type": "code",
   "execution_count": 111,
   "id": "adbe98c3",
   "metadata": {},
   "outputs": [],
   "source": [
    "#Variables to hold the separate 'auto' and 'manual' series average mpg\n",
    "manual_mpg = mpg[mpg.trans.str.contains(\"manual\")].avg_mpg\n",
    "automatic_mpg = mpg[mpg.trans.str.contains(\"auto\")].avg_mpg\n"
   ]
  },
  {
   "cell_type": "code",
   "execution_count": 118,
   "id": "f052740e",
   "metadata": {},
   "outputs": [
    {
     "data": {
      "image/png": "[encoded data removed]",
      "text/plain": [
       "<Figure size 360x360 with 1 Axes>"
      ]
     },
     "metadata": {
      "needs_background": "light"
     },
     "output_type": "display_data"
    }
   ],
   "source": [
    "# compact car's average mpg\n",
    "sns.displot(mpg[mpg.trans.str.contains(\"manual\")].avg_mpg)\n",
    "plt.show()"
   ]
  },
  {
   "cell_type": "code",
   "execution_count": 119,
   "id": "66ef645c",
   "metadata": {},
   "outputs": [
    {
     "data": {
      "image/png": "[encoded data removed]",
      "text/plain": [
       "<Figure size 360x360 with 1 Axes>"
      ]
     },
     "metadata": {
      "needs_background": "light"
     },
     "output_type": "display_data"
    }
   ],
   "source": [
    "# compact car's average mpg\n",
    "sns.displot(mpg[mpg.trans.str.contains(\"auto\")].avg_mpg)\n",
    "plt.show()"
   ]
  },
  {
   "cell_type": "code",
   "execution_count": 112,
   "id": "5c1cf2db",
   "metadata": {},
   "outputs": [
    {
     "data": {
      "text/plain": [
       "(4.593437735750014, 7.154374401145683e-06)"
      ]
     },
     "execution_count": 112,
     "metadata": {},
     "output_type": "execute_result"
    }
   ],
   "source": [
    "t, p = stats.ttest_ind(manual_mpg, automatic_mpg)\n",
    "t, p"
   ]
  },
  {
   "cell_type": "markdown",
   "id": "29d59aee",
   "metadata": {},
   "source": [
    "##### p<0.05 Therefore, we reject the null hypothesis, and can say that manual car mpg on average is greater than auto transmission mpg"
   ]
  },
  {
   "cell_type": "code",
   "execution_count": null,
   "id": "0a84588f",
   "metadata": {},
   "outputs": [],
   "source": []
  }
 ],
 "metadata": {
  "kernelspec": {
   "display_name": "Python 3",
   "language": "python",
   "name": "python3"
  },
  "language_info": {
   "codemirror_mode": {
    "name": "ipython",
    "version": 3
   },
   "file_extension": ".py",
   "mimetype": "text/x-python",
   "name": "python",
   "nbconvert_exporter": "python",
   "pygments_lexer": "ipython3",
   "version": "3.8.8"
  }
 },
 "nbformat": 4,
 "nbformat_minor": 5
}
