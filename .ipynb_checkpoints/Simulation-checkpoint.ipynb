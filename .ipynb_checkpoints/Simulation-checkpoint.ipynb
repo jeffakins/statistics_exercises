{
 "cells": [
  {
   "cell_type": "markdown",
   "id": "40c0f704",
   "metadata": {},
   "source": [
    "### Statistical Simulations"
   ]
  },
  {
   "cell_type": "code",
   "execution_count": null,
   "id": "479bcf65",
   "metadata": {},
   "outputs": [],
   "source": [
    "# How likely is it that you roll doubles when rolling two dice?\n"
   ]
  }
 ],
 "metadata": {
  "kernelspec": {
   "display_name": "Python 3",
   "language": "python",
   "name": "python3"
  },
  "language_info": {
   "codemirror_mode": {
    "name": "ipython",
    "version": 3
   },
   "file_extension": ".py",
   "mimetype": "text/x-python",
   "name": "python",
   "nbconvert_exporter": "python",
   "pygments_lexer": "ipython3",
   "version": "3.8.8"
  }
 },
 "nbformat": 4,
 "nbformat_minor": 5
}
