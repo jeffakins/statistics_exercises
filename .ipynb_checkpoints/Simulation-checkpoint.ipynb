{
 "cells": [
  {
   "cell_type": "markdown",
   "id": "24aa002c",
   "metadata": {},
   "source": [
    "### Statistical Simulations"
   ]
  },
  {
   "cell_type": "code",
   "execution_count": 3,
   "id": "f3d3ed08",
   "metadata": {},
   "outputs": [],
   "source": [
    "# Setup\n",
    "import numpy as np\n",
    "import pandas as pd"
   ]
  },
  {
   "cell_type": "markdown",
   "id": "eb51c025",
   "metadata": {},
   "source": [
    "##### 1. How likely is it that you roll doubles when rolling two dice?"
   ]
  },
  {
   "cell_type": "code",
   "execution_count": 5,
   "id": "9d3b27cf",
   "metadata": {},
   "outputs": [
    {
     "data": {
      "text/plain": [
       "array([[5, 5],\n",
       "       [6, 6],\n",
       "       [6, 4],\n",
       "       [6, 2],\n",
       "       [3, 3]])"
      ]
     },
     "execution_count": 5,
     "metadata": {},
     "output_type": "execute_result"
    }
   ],
   "source": [
    "dice_outcomes = [1, 2, 3, 4, 5, 6]\n",
    "n_simulations = 1_000_000\n",
    "n_trials = 2\n",
    "\n",
    "roll = np.random.choice(dice_outcomes,  size=(n_simulations, n_trials))\n",
    "roll[0:5]"
   ]
  },
  {
   "cell_type": "code",
   "execution_count": 7,
   "id": "2a5fa2f4",
   "metadata": {},
   "outputs": [
    {
     "data": {
      "text/plain": [
       "array([[5, 6, 6, ..., 3, 6, 4],\n",
       "       [5, 6, 4, ..., 1, 5, 1]])"
      ]
     },
     "execution_count": 7,
     "metadata": {},
     "output_type": "execute_result"
    }
   ],
   "source": [
    "roll_t = roll.transpose()\n",
    "roll_t[0:5]"
   ]
  },
  {
   "cell_type": "code",
   "execution_count": 8,
   "id": "1f499745",
   "metadata": {},
   "outputs": [
    {
     "data": {
      "text/plain": [
       "0.165945"
      ]
     },
     "execution_count": 8,
     "metadata": {},
     "output_type": "execute_result"
    }
   ],
   "source": [
    "(roll_t[0] == roll_t[1]).mean()"
   ]
  },
  {
   "cell_type": "markdown",
   "id": "b6e28652",
   "metadata": {},
   "source": [
    "##### 2. If you flip 8 coins, what is the probability of getting exactly 3 heads? What is the probability of getting more than 3 heads?"
   ]
  },
  {
   "cell_type": "code",
   "execution_count": 15,
   "id": "95504d79",
   "metadata": {},
   "outputs": [
    {
     "data": {
      "text/plain": [
       "array([[0, 0, 1, 1, 1, 0, 1, 1],\n",
       "       [0, 1, 0, 0, 0, 1, 1, 0],\n",
       "       [1, 0, 1, 1, 1, 1, 1, 1],\n",
       "       [1, 1, 0, 1, 1, 1, 1, 1],\n",
       "       [0, 0, 0, 1, 1, 0, 0, 1],\n",
       "       [1, 0, 0, 0, 1, 0, 0, 0],\n",
       "       [0, 1, 1, 1, 1, 0, 1, 0],\n",
       "       [0, 1, 0, 1, 0, 0, 0, 0],\n",
       "       [1, 1, 0, 1, 0, 1, 1, 1],\n",
       "       [1, 0, 1, 1, 1, 1, 0, 0]])"
      ]
     },
     "execution_count": 15,
     "metadata": {},
     "output_type": "execute_result"
    }
   ],
   "source": [
    "coin_outcomes = [1, 0]\n",
    "n_simulations = 1_000_000\n",
    "n_trials = 8\n",
    "flips = np.random.choice(coin_outcomes, size=(n_simulations, n_trials))\n",
    "flips[0:10]"
   ]
  },
  {
   "cell_type": "code",
   "execution_count": 21,
   "id": "5c38b005",
   "metadata": {},
   "outputs": [
    {
     "data": {
      "text/plain": [
       "array([5, 3, 7, 7, 3, 2, 5, 2, 6, 5])"
      ]
     },
     "execution_count": 21,
     "metadata": {},
     "output_type": "execute_result"
    }
   ],
   "source": [
    "number_of_heads = flips.sum(axis=1)\n",
    "number_of_heads[0:10]"
   ]
  },
  {
   "cell_type": "code",
   "execution_count": 22,
   "id": "c6181ed2",
   "metadata": {},
   "outputs": [
    {
     "data": {
      "text/plain": [
       "0.218592"
      ]
     },
     "execution_count": 22,
     "metadata": {},
     "output_type": "execute_result"
    }
   ],
   "source": [
    "(number_of_heads == 3).mean()"
   ]
  },
  {
   "cell_type": "code",
   "execution_count": 23,
   "id": "d4ea0330",
   "metadata": {},
   "outputs": [
    {
     "data": {
      "text/plain": [
       "0.637057"
      ]
     },
     "execution_count": 23,
     "metadata": {},
     "output_type": "execute_result"
    }
   ],
   "source": [
    "(number_of_heads > 3).mean()"
   ]
  },
  {
   "cell_type": "markdown",
   "id": "d4533204",
   "metadata": {},
   "source": [
    "##### 3. There are approximitely 3 web development cohorts for every 1 data science cohort at Codeup. Assuming that Codeup randomly selects an alumni to put on a billboard, what are the odds that the two billboards I drive past both have data science students on them?"
   ]
  },
  {
   "cell_type": "code",
   "execution_count": 36,
   "id": "5f87c19d",
   "metadata": {},
   "outputs": [
    {
     "data": {
      "text/plain": [
       "array([[0, 0],\n",
       "       [0, 1],\n",
       "       [0, 0],\n",
       "       [0, 1],\n",
       "       [0, 0]])"
      ]
     },
     "execution_count": 36,
     "metadata": {},
     "output_type": "execute_result"
    }
   ],
   "source": [
    "# Assuming that the cohorts are the same number of students\n",
    "outcomes = [1, 0] # 1 = data science student; 0 = Web student\n",
    "\n",
    "web_dev = 0.75\n",
    "data_sci = 0.25\n",
    "\n",
    "n_simulations = 100_000\n",
    "billboards = 2\n",
    "\n",
    "student = np.random.choice(outcomes, size=(n_simulations, billboards), p=[data_sci, web_dev])\n",
    "\n",
    "student[0:5]"
   ]
  },
  {
   "cell_type": "code",
   "execution_count": 37,
   "id": "8ae956bf",
   "metadata": {},
   "outputs": [
    {
     "data": {
      "text/plain": [
       "array([0, 1, 0, ..., 0, 0, 0])"
      ]
     },
     "execution_count": 37,
     "metadata": {},
     "output_type": "execute_result"
    }
   ],
   "source": [
    "number_of_students = student.sum(axis=1)\n",
    "number_of_students"
   ]
  },
  {
   "cell_type": "code",
   "execution_count": 38,
   "id": "88a1cffc",
   "metadata": {},
   "outputs": [
    {
     "data": {
      "text/plain": [
       "0.06179"
      ]
     },
     "execution_count": 38,
     "metadata": {},
     "output_type": "execute_result"
    }
   ],
   "source": [
    "(number_of_students == 2).mean()"
   ]
  },
  {
   "cell_type": "markdown",
   "id": "97907dc0",
   "metadata": {},
   "source": [
    "##### 4. Codeup students buy, on average, 3 poptart packages (+- 1.5) a day from the snack vending machine. If on monday the machine is restocked with 17 poptart packages, how likely is it that I will be able to buy some poptarts on Friday afternoon?"
   ]
  },
  {
   "cell_type": "code",
   "execution_count": 53,
   "id": "efe3154f",
   "metadata": {},
   "outputs": [
    {
     "data": {
      "text/plain": [
       "1.9810744549071106"
      ]
     },
     "execution_count": 53,
     "metadata": {},
     "output_type": "execute_result"
    }
   ],
   "source": [
    "pop_tart = np.random.normal(3, 1.5, 10000)\n",
    "avg_pop_tart = pop_tart.mean()\n",
    "start_pop_tart = 17\n",
    "start_pop_tart - 5*avg_pop_tart"
   ]
  },
  {
   "cell_type": "markdown",
   "id": "f6dad0d8",
   "metadata": {},
   "source": [
    "##### 5. Compare Heights\n",
    "\n",
    "- Men have an average height of 178 cm and standard deviation of 8cm.\n",
    "- Women have a mean of 170, sd = 6cm.\n",
    "- Since you have means and standard deviations, you can use np.random.normal to generate observations.\n",
    "- If a man and woman are chosen at random, P(woman taller than man)?\n"
   ]
  },
  {
   "cell_type": "code",
   "execution_count": null,
   "id": "93a45ee4",
   "metadata": {},
   "outputs": [],
   "source": [
    "avg_ht_men = 178\n",
    "avg_ht_women = 170\n",
    "\n",
    "men_std = 8\n",
    "women_std = 6\n",
    "\n",
    "random_ht_man = np.random.normal(avg_ht_men, men_std)\n",
    "random_ht_woman = np.random.normal(avg_ht_women, women_std)\n"
   ]
  },
  {
   "cell_type": "markdown",
   "id": "bd179b04",
   "metadata": {},
   "source": [
    "##### 6. When installing anaconda on a student's computer, there's a 1 in 250 chance that the download is corrupted and the installation fails. What are the odds that after having 50 students download anaconda, no one has an installation issue? 100 students?\n",
    "\n",
    "- What is the probability that we observe an installation issue within the first 150 students that download anaconda?\n",
    "\n",
    "- How likely is it that 450 students all download anaconda without an issue?"
   ]
  },
  {
   "cell_type": "markdown",
   "id": "79c880cf",
   "metadata": {},
   "source": [
    "##### 7. There's a 70% chance on any given day that there will be at least one food truck at Travis Park. However, you haven't seen a food truck there in 3 days. How unlikely is this?\n",
    "\n",
    "- How likely is it that a food truck will show up sometime this week?"
   ]
  },
  {
   "cell_type": "markdown",
   "id": "44bb8dd8",
   "metadata": {},
   "source": [
    "##### 8. If 23 people are in the same room, what are the odds that two of them share a birthday? What if it's 20 people? 40?"
   ]
  },
  {
   "cell_type": "code",
   "execution_count": null,
   "id": "dda1bb4e",
   "metadata": {},
   "outputs": [],
   "source": []
  }
 ],
 "metadata": {
  "kernelspec": {
   "display_name": "Python 3",
   "language": "python",
   "name": "python3"
  },
  "language_info": {
   "codemirror_mode": {
    "name": "ipython",
    "version": 3
   },
   "file_extension": ".py",
   "mimetype": "text/x-python",
   "name": "python",
   "nbconvert_exporter": "python",
   "pygments_lexer": "ipython3",
   "version": "3.8.8"
  }
 },
 "nbformat": 4,
 "nbformat_minor": 5
}
