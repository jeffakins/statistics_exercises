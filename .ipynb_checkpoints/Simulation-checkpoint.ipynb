{
 "cells": [
  {
   "cell_type": "markdown",
   "id": "ac58214b",
   "metadata": {},
   "source": [
    "### Statistical Simulations"
   ]
  },
  {
   "cell_type": "code",
   "execution_count": 3,
   "id": "4a1f95ae",
   "metadata": {},
   "outputs": [],
   "source": [
    "# Setup\n",
    "import numpy as np\n",
    "import pandas as pd"
   ]
  },
  {
   "cell_type": "markdown",
   "id": "ce21b181",
   "metadata": {},
   "source": [
    "##### 1. How likely is it that you roll doubles when rolling two dice?"
   ]
  },
  {
   "cell_type": "code",
   "execution_count": 5,
   "id": "39001547",
   "metadata": {},
   "outputs": [
    {
     "data": {
      "text/plain": [
       "array([[5, 5],\n",
       "       [6, 6],\n",
       "       [6, 4],\n",
       "       [6, 2],\n",
       "       [3, 3]])"
      ]
     },
     "execution_count": 5,
     "metadata": {},
     "output_type": "execute_result"
    }
   ],
   "source": [
    "dice_outcomes = [1, 2, 3, 4, 5, 6]\n",
    "n_simulations = 1_000_000\n",
    "n_trials = 2\n",
    "\n",
    "roll = np.random.choice(dice_outcomes,  size=(n_simulations, n_trials))\n",
    "roll[0:5]"
   ]
  },
  {
   "cell_type": "code",
   "execution_count": 7,
   "id": "41fd6110",
   "metadata": {},
   "outputs": [
    {
     "data": {
      "text/plain": [
       "array([[5, 6, 6, ..., 3, 6, 4],\n",
       "       [5, 6, 4, ..., 1, 5, 1]])"
      ]
     },
     "execution_count": 7,
     "metadata": {},
     "output_type": "execute_result"
    }
   ],
   "source": [
    "roll_t = roll.transpose()\n",
    "roll_t[0:5]"
   ]
  },
  {
   "cell_type": "code",
   "execution_count": 8,
   "id": "8aedb457",
   "metadata": {},
   "outputs": [
    {
     "data": {
      "text/plain": [
       "0.165945"
      ]
     },
     "execution_count": 8,
     "metadata": {},
     "output_type": "execute_result"
    }
   ],
   "source": [
    "(roll_t[0] == roll_t[1]).mean()"
   ]
  },
  {
   "cell_type": "markdown",
   "id": "b371bafc",
   "metadata": {},
   "source": [
    "##### 2. If you flip 8 coins, what is the probability of getting exactly 3 heads? What is the probability of getting more than 3 heads?"
   ]
  },
  {
   "cell_type": "code",
   "execution_count": 15,
   "id": "0535131e",
   "metadata": {},
   "outputs": [
    {
     "data": {
      "text/plain": [
       "array([[0, 0, 1, 1, 1, 0, 1, 1],\n",
       "       [0, 1, 0, 0, 0, 1, 1, 0],\n",
       "       [1, 0, 1, 1, 1, 1, 1, 1],\n",
       "       [1, 1, 0, 1, 1, 1, 1, 1],\n",
       "       [0, 0, 0, 1, 1, 0, 0, 1],\n",
       "       [1, 0, 0, 0, 1, 0, 0, 0],\n",
       "       [0, 1, 1, 1, 1, 0, 1, 0],\n",
       "       [0, 1, 0, 1, 0, 0, 0, 0],\n",
       "       [1, 1, 0, 1, 0, 1, 1, 1],\n",
       "       [1, 0, 1, 1, 1, 1, 0, 0]])"
      ]
     },
     "execution_count": 15,
     "metadata": {},
     "output_type": "execute_result"
    }
   ],
   "source": [
    "coin_outcomes = [1, 0]\n",
    "n_simulations = 1_000_000\n",
    "n_trials = 8\n",
    "flips = np.random.choice(coin_outcomes, size=(n_simulations, n_trials))\n",
    "flips[0:10]"
   ]
  },
  {
   "cell_type": "code",
   "execution_count": 21,
   "id": "52c680fa",
   "metadata": {},
   "outputs": [
    {
     "data": {
      "text/plain": [
       "array([5, 3, 7, 7, 3, 2, 5, 2, 6, 5])"
      ]
     },
     "execution_count": 21,
     "metadata": {},
     "output_type": "execute_result"
    }
   ],
   "source": [
    "number_of_heads = flips.sum(axis=1)\n",
    "number_of_heads[0:10]"
   ]
  },
  {
   "cell_type": "code",
   "execution_count": 22,
   "id": "2f73931e",
   "metadata": {},
   "outputs": [
    {
     "data": {
      "text/plain": [
       "0.218592"
      ]
     },
     "execution_count": 22,
     "metadata": {},
     "output_type": "execute_result"
    }
   ],
   "source": [
    "(number_of_heads == 3).mean()"
   ]
  },
  {
   "cell_type": "code",
   "execution_count": 23,
   "id": "4e43844b",
   "metadata": {},
   "outputs": [
    {
     "data": {
      "text/plain": [
       "0.637057"
      ]
     },
     "execution_count": 23,
     "metadata": {},
     "output_type": "execute_result"
    }
   ],
   "source": [
    "(number_of_heads > 3).mean()"
   ]
  },
  {
   "cell_type": "markdown",
   "id": "d0298938",
   "metadata": {},
   "source": [
    "##### 3. There are approximitely 3 web development cohorts for every 1 data science cohort at Codeup. Assuming that Codeup randomly selects an alumni to put on a billboard, what are the odds that the two billboards I drive past both have data science students on them?"
   ]
  },
  {
   "cell_type": "code",
   "execution_count": 36,
   "id": "87a1e993",
   "metadata": {},
   "outputs": [
    {
     "data": {
      "text/plain": [
       "array([[0, 0],\n",
       "       [0, 1],\n",
       "       [0, 0],\n",
       "       [0, 1],\n",
       "       [0, 0]])"
      ]
     },
     "execution_count": 36,
     "metadata": {},
     "output_type": "execute_result"
    }
   ],
   "source": [
    "# Assuming that the cohorts are the same number of students\n",
    "outcomes = [1, 0] # 1 = data science student; 0 = Web student\n",
    "\n",
    "web_dev = 0.75\n",
    "data_sci = 0.25\n",
    "\n",
    "n_simulations = 100_000\n",
    "billboards = 2\n",
    "\n",
    "student = np.random.choice(outcomes, size=(n_simulations, billboards), p=[data_sci, web_dev])\n",
    "\n",
    "student[0:5]"
   ]
  },
  {
   "cell_type": "code",
   "execution_count": 37,
   "id": "e7407caf",
   "metadata": {},
   "outputs": [
    {
     "data": {
      "text/plain": [
       "array([0, 1, 0, ..., 0, 0, 0])"
      ]
     },
     "execution_count": 37,
     "metadata": {},
     "output_type": "execute_result"
    }
   ],
   "source": [
    "number_of_students = student.sum(axis=1)\n",
    "number_of_students"
   ]
  },
  {
   "cell_type": "code",
   "execution_count": 38,
   "id": "27f07d76",
   "metadata": {},
   "outputs": [
    {
     "data": {
      "text/plain": [
       "0.06179"
      ]
     },
     "execution_count": 38,
     "metadata": {},
     "output_type": "execute_result"
    }
   ],
   "source": [
    "(number_of_students == 2).mean()"
   ]
  },
  {
   "cell_type": "markdown",
   "id": "e25dd5c6",
   "metadata": {},
   "source": [
    "##### 4. Codeup students buy, on average, 3 poptart packages (+- 1.5) a day from the snack vending machine. If on monday the machine is restocked with 17 poptart packages, how likely is it that I will be able to buy some poptarts on Friday afternoon?"
   ]
  },
  {
   "cell_type": "code",
   "execution_count": 53,
   "id": "9d91f57f",
   "metadata": {},
   "outputs": [
    {
     "data": {
      "text/plain": [
       "1.9810744549071106"
      ]
     },
     "execution_count": 53,
     "metadata": {},
     "output_type": "execute_result"
    }
   ],
   "source": [
    "pop_tart = np.random.normal(3, 1.5, 10000)\n",
    "avg_pop_tart = pop_tart.mean()\n",
    "start_pop_tart = 17\n",
    "start_pop_tart - 5*avg_pop_tart"
   ]
  },
  {
   "cell_type": "markdown",
   "id": "9105ad38",
   "metadata": {},
   "source": [
    "##### 5. Compare Heights\n",
    "\n",
    "- Men have an average height of 178 cm and standard deviation of 8cm.\n",
    "- Women have a mean of 170, sd = 6cm.\n",
    "- Since you have means and standard deviations, you can use np.random.normal to generate observations.\n",
    "- If a man and woman are chosen at random, P(woman taller than man)?\n"
   ]
  },
  {
   "cell_type": "code",
   "execution_count": 54,
   "id": "5387e662",
   "metadata": {},
   "outputs": [
    {
     "data": {
      "text/plain": [
       "0.20979"
      ]
     },
     "execution_count": 54,
     "metadata": {},
     "output_type": "execute_result"
    }
   ],
   "source": [
    "avg_ht_men = 178\n",
    "avg_ht_women = 170\n",
    "\n",
    "men_std = 8\n",
    "women_std = 6\n",
    "\n",
    "n_simulations = 100_000\n",
    "\n",
    "random_ht_man = np.random.normal(avg_ht_men, men_std, n_simulations)\n",
    "random_ht_woman = np.random.normal(avg_ht_women, women_std, n_simulations)\n",
    "\n",
    "(random_ht_woman > random_ht_man).mean()"
   ]
  },
  {
   "cell_type": "markdown",
   "id": "2ca5c516",
   "metadata": {},
   "source": [
    "##### 6. When installing anaconda on a student's computer, there's a 1 in 250 chance that the download is corrupted and the installation fails. What are the odds that after having 50 students download anaconda, no one has an installation issue? 100 students?\n",
    "\n",
    "- What is the probability that we observe an installation issue within the first 150 students that download anaconda?\n",
    "\n",
    "- How likely is it that 450 students all download anaconda without an issue?"
   ]
  },
  {
   "cell_type": "code",
   "execution_count": 66,
   "id": "1d968b68",
   "metadata": {},
   "outputs": [
    {
     "data": {
      "text/plain": [
       "array([[0, 0, 0, ..., 0, 0, 0],\n",
       "       [0, 0, 0, ..., 0, 0, 0],\n",
       "       [0, 0, 0, ..., 0, 0, 0],\n",
       "       ...,\n",
       "       [0, 0, 0, ..., 0, 0, 0],\n",
       "       [0, 0, 0, ..., 0, 0, 0],\n",
       "       [0, 0, 0, ..., 0, 0, 0]])"
      ]
     },
     "execution_count": 66,
     "metadata": {},
     "output_type": "execute_result"
    }
   ],
   "source": [
    "corrupted = [1, 0] # 1 = corrupted; 0 = not corrupted\n",
    "n_simulations = 100_000\n",
    "n_students = 100\n",
    "\n",
    "corrupt_anaconda = np.random.choice(corrupted, size=(n_simulations, n_students), p=[1/250, 249/250])\n",
    "corrupt_anaconda"
   ]
  },
  {
   "cell_type": "code",
   "execution_count": 83,
   "id": "811e5561",
   "metadata": {},
   "outputs": [
    {
     "data": {
      "text/plain": [
       "0.81969"
      ]
     },
     "execution_count": 83,
     "metadata": {},
     "output_type": "execute_result"
    }
   ],
   "source": [
    "n_students = 50\n",
    "corrupt_anaconda = np.random.choice(corrupted, size=(n_simulations, n_students), p=[1/250, 249/250])\n",
    "total_corrupt = corrupt_anaconda.sum(axis=1)\n",
    "1- (total_corrupt >=1).mean()"
   ]
  },
  {
   "cell_type": "code",
   "execution_count": 87,
   "id": "f58761a6",
   "metadata": {},
   "outputs": [
    {
     "data": {
      "text/plain": [
       "0.6685"
      ]
     },
     "execution_count": 87,
     "metadata": {},
     "output_type": "execute_result"
    }
   ],
   "source": [
    "n_students = 100\n",
    "corrupt_anaconda = np.random.choice(corrupted, size=(n_simulations, n_students), p=[1/250, 249/250])\n",
    "total_corrupt = corrupt_anaconda.sum(axis=1)\n",
    "1- (total_corrupt >=1).mean()"
   ]
  },
  {
   "cell_type": "code",
   "execution_count": 85,
   "id": "3fdb9d4b",
   "metadata": {},
   "outputs": [
    {
     "data": {
      "text/plain": [
       "0.54837"
      ]
     },
     "execution_count": 85,
     "metadata": {},
     "output_type": "execute_result"
    }
   ],
   "source": [
    "n_students = 150\n",
    "corrupt_anaconda = np.random.choice(corrupted, size=(n_simulations, n_students), p=[1/250, 249/250])\n",
    "total_corrupt = corrupt_anaconda.sum(axis=1)\n",
    "1- (total_corrupt >=1).mean()"
   ]
  },
  {
   "cell_type": "code",
   "execution_count": 86,
   "id": "fdd61bb9",
   "metadata": {},
   "outputs": [
    {
     "data": {
      "text/plain": [
       "0.16386999999999996"
      ]
     },
     "execution_count": 86,
     "metadata": {},
     "output_type": "execute_result"
    }
   ],
   "source": [
    "n_students = 450\n",
    "corrupt_anaconda = np.random.choice(corrupted, size=(n_simulations, n_students), p=[1/250, 249/250])\n",
    "total_corrupt = corrupt_anaconda.sum(axis=1)\n",
    "1- (total_corrupt >=1).mean()"
   ]
  },
  {
   "cell_type": "markdown",
   "id": "fef65c2e",
   "metadata": {},
   "source": [
    "##### 7. There's a 70% chance on any given day that there will be at least one food truck at Travis Park. However, you haven't seen a food truck there in 3 days. How unlikely is this?\n",
    "\n",
    "- How likely is it that a food truck will show up sometime this week?"
   ]
  },
  {
   "cell_type": "markdown",
   "id": "9e175c05",
   "metadata": {},
   "source": [
    "##### 8. If 23 people are in the same room, what are the odds that two of them share a birthday? What if it's 20 people? 40?"
   ]
  },
  {
   "cell_type": "code",
   "execution_count": null,
   "id": "c6756b48",
   "metadata": {},
   "outputs": [],
   "source": []
  }
 ],
 "metadata": {
  "kernelspec": {
   "display_name": "Python 3",
   "language": "python",
   "name": "python3"
  },
  "language_info": {
   "codemirror_mode": {
    "name": "ipython",
    "version": 3
   },
   "file_extension": ".py",
   "mimetype": "text/x-python",
   "name": "python",
   "nbconvert_exporter": "python",
   "pygments_lexer": "ipython3",
   "version": "3.8.8"
  }
 },
 "nbformat": 4,
 "nbformat_minor": 5
}
