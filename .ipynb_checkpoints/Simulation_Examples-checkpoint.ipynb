{
 "cells": [
  {
   "cell_type": "markdown",
   "id": "fe24793d",
   "metadata": {},
   "source": [
    "### Simulation Examples"
   ]
  },
  {
   "cell_type": "code",
   "execution_count": 2,
   "id": "c13766d7",
   "metadata": {},
   "outputs": [],
   "source": [
    "%matplotlib inline\n",
    "import numpy as np\n",
    "import pandas as pd\n",
    "\n",
    "import viz # curriculum example visualizations\n",
    "\n",
    "np.random.seed(29)"
   ]
  },
  {
   "cell_type": "code",
   "execution_count": 3,
   "id": "41ca9773",
   "metadata": {},
   "outputs": [
    {
     "data": {
      "text/plain": [
       "array([[6, 4, 5],\n",
       "       [6, 3, 1],\n",
       "       [1, 2, 2],\n",
       "       ...,\n",
       "       [6, 2, 1],\n",
       "       [3, 4, 3],\n",
       "       [4, 2, 4]])"
      ]
     },
     "execution_count": 3,
     "metadata": {},
     "output_type": "execute_result"
    }
   ],
   "source": [
    "n_trials = nrows = 10_000\n",
    "n_dice = ncols = 3\n",
    "\n",
    "rolls = np.random.choice([1, 2, 3, 4, 5, 6], n_trials * n_dice).reshape(nrows, ncols)\n",
    "rolls"
   ]
  },
  {
   "cell_type": "code",
   "execution_count": 4,
   "id": "ce41ecd8",
   "metadata": {},
   "outputs": [
    {
     "data": {
      "text/plain": [
       "array([15, 10,  5, ...,  9, 10, 10])"
      ]
     },
     "execution_count": 4,
     "metadata": {},
     "output_type": "execute_result"
    }
   ],
   "source": [
    "sums_by_trial = rolls.sum(axis=1)\n",
    "sums_by_trial"
   ]
  },
  {
   "cell_type": "code",
   "execution_count": 5,
   "id": "6418969b",
   "metadata": {},
   "outputs": [
    {
     "data": {
      "image/png": "[encoded data removed]",
      "text/plain": [
       "<Figure size 648x432 with 1 Axes>"
      ]
     },
     "metadata": {
      "needs_background": "light"
     },
     "output_type": "display_data"
    }
   ],
   "source": [
    "viz.simulation_example1(sums_by_trial)"
   ]
  },
  {
   "cell_type": "code",
   "execution_count": 6,
   "id": "7fd66daa",
   "metadata": {},
   "outputs": [
    {
     "data": {
      "text/plain": [
       "array([ True, False, False, ..., False, False, False])"
      ]
     },
     "execution_count": 6,
     "metadata": {},
     "output_type": "execute_result"
    }
   ],
   "source": [
    "wins = sums_by_trial > 12\n",
    "wins"
   ]
  },
  {
   "cell_type": "code",
   "execution_count": 8,
   "id": "cf17360b",
   "metadata": {},
   "outputs": [
    {
     "data": {
      "text/plain": [
       "0.2633"
      ]
     },
     "execution_count": 8,
     "metadata": {},
     "output_type": "execute_result"
    }
   ],
   "source": [
    "win_rate = wins.astype(int).mean()\n",
    "win_rate"
   ]
  },
  {
   "cell_type": "code",
   "execution_count": 9,
   "id": "e56122ea",
   "metadata": {},
   "outputs": [
    {
     "data": {
      "text/plain": [
       "-1.0505000000000004"
      ]
     },
     "execution_count": 9,
     "metadata": {},
     "output_type": "execute_result"
    }
   ],
   "source": [
    "expected_winnings = win_rate * 15\n",
    "cost = 5\n",
    "expected_profit = expected_winnings - cost\n",
    "expected_profit"
   ]
  },
  {
   "cell_type": "code",
   "execution_count": 10,
   "id": "7803d602",
   "metadata": {},
   "outputs": [
    {
     "data": {
      "text/plain": [
       "0.5860000000000003"
      ]
     },
     "execution_count": 10,
     "metadata": {},
     "output_type": "execute_result"
    }
   ],
   "source": [
    "wins = sums_by_trial >= 12\n",
    "win_rate = wins.astype(int).mean()\n",
    "expected_winnings = win_rate * 15\n",
    "cost = 5\n",
    "expected_profit = expected_winnings - cost\n",
    "expected_profit"
   ]
  },
  {
   "cell_type": "code",
   "execution_count": null,
   "id": "fc6a5cf0",
   "metadata": {},
   "outputs": [],
   "source": []
  }
 ],
 "metadata": {
  "kernelspec": {
   "display_name": "Python 3",
   "language": "python",
   "name": "python3"
  },
  "language_info": {
   "codemirror_mode": {
    "name": "ipython",
    "version": 3
   },
   "file_extension": ".py",
   "mimetype": "text/x-python",
   "name": "python",
   "nbconvert_exporter": "python",
   "pygments_lexer": "ipython3",
   "version": "3.8.8"
  }
 },
 "nbformat": 4,
 "nbformat_minor": 5
}
