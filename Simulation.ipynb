{
 "cells": [
  {
   "cell_type": "markdown",
   "id": "2ae7f2a1",
   "metadata": {},
   "source": [
    "### Statistical Simulations"
   ]
  },
  {
   "cell_type": "code",
   "execution_count": 131,
   "id": "98e1ce00",
   "metadata": {},
   "outputs": [],
   "source": [
    "# Setup\n",
    "import numpy as np\n",
    "import pandas as pd"
   ]
  },
  {
   "cell_type": "markdown",
   "id": "af43159e",
   "metadata": {},
   "source": [
    "##### 1. How likely is it that you roll doubles when rolling two dice?"
   ]
  },
  {
   "cell_type": "code",
   "execution_count": 132,
   "id": "b45ffe4a",
   "metadata": {},
   "outputs": [
    {
     "data": {
      "text/plain": [
       "array([[1, 1],\n",
       "       [2, 5],\n",
       "       [1, 4],\n",
       "       [4, 3],\n",
       "       [5, 5]])"
      ]
     },
     "execution_count": 132,
     "metadata": {},
     "output_type": "execute_result"
    }
   ],
   "source": [
    "dice_outcomes = [1, 2, 3, 4, 5, 6]\n",
    "n_simulations = 1_000_000\n",
    "n_trials = 2\n",
    "\n",
    "roll = np.random.choice(dice_outcomes,  size=(n_simulations, n_trials))\n",
    "roll[0:5]"
   ]
  },
  {
   "cell_type": "code",
   "execution_count": 133,
   "id": "7b80920a",
   "metadata": {},
   "outputs": [
    {
     "data": {
      "text/plain": [
       "array([[1, 2, 1, ..., 6, 1, 5],\n",
       "       [1, 5, 4, ..., 3, 4, 2]])"
      ]
     },
     "execution_count": 133,
     "metadata": {},
     "output_type": "execute_result"
    }
   ],
   "source": [
    "roll_t = roll.transpose()\n",
    "roll_t[0:5]"
   ]
  },
  {
   "cell_type": "code",
   "execution_count": 8,
   "id": "6bb6c886",
   "metadata": {},
   "outputs": [
    {
     "data": {
      "text/plain": [
       "0.165945"
      ]
     },
     "execution_count": 8,
     "metadata": {},
     "output_type": "execute_result"
    }
   ],
   "source": [
    "(roll_t[0] == roll_t[1]).mean()"
   ]
  },
  {
   "cell_type": "markdown",
   "id": "e4f5b299",
   "metadata": {},
   "source": [
    "##### 2. If you flip 8 coins, what is the probability of getting exactly 3 heads? What is the probability of getting more than 3 heads?"
   ]
  },
  {
   "cell_type": "code",
   "execution_count": 15,
   "id": "0b431275",
   "metadata": {},
   "outputs": [
    {
     "data": {
      "text/plain": [
       "array([[0, 0, 1, 1, 1, 0, 1, 1],\n",
       "       [0, 1, 0, 0, 0, 1, 1, 0],\n",
       "       [1, 0, 1, 1, 1, 1, 1, 1],\n",
       "       [1, 1, 0, 1, 1, 1, 1, 1],\n",
       "       [0, 0, 0, 1, 1, 0, 0, 1],\n",
       "       [1, 0, 0, 0, 1, 0, 0, 0],\n",
       "       [0, 1, 1, 1, 1, 0, 1, 0],\n",
       "       [0, 1, 0, 1, 0, 0, 0, 0],\n",
       "       [1, 1, 0, 1, 0, 1, 1, 1],\n",
       "       [1, 0, 1, 1, 1, 1, 0, 0]])"
      ]
     },
     "execution_count": 15,
     "metadata": {},
     "output_type": "execute_result"
    }
   ],
   "source": [
    "coin_outcomes = [1, 0]\n",
    "n_simulations = 1_000_000\n",
    "n_trials = 8\n",
    "flips = np.random.choice(coin_outcomes, size=(n_simulations, n_trials))\n",
    "flips[0:10]"
   ]
  },
  {
   "cell_type": "code",
   "execution_count": 21,
   "id": "cdab59ea",
   "metadata": {},
   "outputs": [
    {
     "data": {
      "text/plain": [
       "array([5, 3, 7, 7, 3, 2, 5, 2, 6, 5])"
      ]
     },
     "execution_count": 21,
     "metadata": {},
     "output_type": "execute_result"
    }
   ],
   "source": [
    "number_of_heads = flips.sum(axis=1)\n",
    "number_of_heads[0:10]"
   ]
  },
  {
   "cell_type": "code",
   "execution_count": 22,
   "id": "0538491b",
   "metadata": {},
   "outputs": [
    {
     "data": {
      "text/plain": [
       "0.218592"
      ]
     },
     "execution_count": 22,
     "metadata": {},
     "output_type": "execute_result"
    }
   ],
   "source": [
    "(number_of_heads == 3).mean()"
   ]
  },
  {
   "cell_type": "code",
   "execution_count": 137,
   "id": "c13d5b03",
   "metadata": {},
   "outputs": [
    {
     "data": {
      "text/plain": [
       "0.637057"
      ]
     },
     "execution_count": 137,
     "metadata": {},
     "output_type": "execute_result"
    }
   ],
   "source": [
    "(number_of_heads > 3).mean()"
   ]
  },
  {
   "cell_type": "markdown",
   "id": "7365f5c9",
   "metadata": {},
   "source": [
    "##### 3. There are approximitely 3 web development cohorts for every 1 data science cohort at Codeup. Assuming that Codeup randomly selects an alumni to put on a billboard, what are the odds that the two billboards I drive past both have data science students on them?"
   ]
  },
  {
   "cell_type": "code",
   "execution_count": 36,
   "id": "12a07201",
   "metadata": {},
   "outputs": [
    {
     "data": {
      "text/plain": [
       "array([[0, 0],\n",
       "       [0, 1],\n",
       "       [0, 0],\n",
       "       [0, 1],\n",
       "       [0, 0]])"
      ]
     },
     "execution_count": 36,
     "metadata": {},
     "output_type": "execute_result"
    }
   ],
   "source": [
    "# Assuming that the cohorts are the same number of students\n",
    "outcomes = [1, 0] # 1 = data science student; 0 = Web student\n",
    "\n",
    "web_dev = 0.75\n",
    "data_sci = 0.25\n",
    "\n",
    "n_simulations = 100_000\n",
    "billboards = 2\n",
    "\n",
    "student = np.random.choice(outcomes, size=(n_simulations, billboards), p=[data_sci, web_dev])\n",
    "\n",
    "student[0:5]"
   ]
  },
  {
   "cell_type": "code",
   "execution_count": 37,
   "id": "77bc0a51",
   "metadata": {},
   "outputs": [
    {
     "data": {
      "text/plain": [
       "array([0, 1, 0, ..., 0, 0, 0])"
      ]
     },
     "execution_count": 37,
     "metadata": {},
     "output_type": "execute_result"
    }
   ],
   "source": [
    "number_of_students = student.sum(axis=1)\n",
    "number_of_students"
   ]
  },
  {
   "cell_type": "code",
   "execution_count": 38,
   "id": "2d046567",
   "metadata": {},
   "outputs": [
    {
     "data": {
      "text/plain": [
       "0.06179"
      ]
     },
     "execution_count": 38,
     "metadata": {},
     "output_type": "execute_result"
    }
   ],
   "source": [
    "(number_of_students == 2).mean()"
   ]
  },
  {
   "cell_type": "markdown",
   "id": "77294c88",
   "metadata": {},
   "source": [
    "##### 4. Codeup students buy, on average, 3 poptart packages (+- 1.5) a day from the snack vending machine. If on monday the machine is restocked with 17 poptart packages, how likely is it that I will be able to buy some poptarts on Friday afternoon?"
   ]
  },
  {
   "cell_type": "code",
   "execution_count": 96,
   "id": "33343fc4",
   "metadata": {},
   "outputs": [
    {
     "data": {
      "text/plain": [
       "0.7264"
      ]
     },
     "execution_count": 96,
     "metadata": {},
     "output_type": "execute_result"
    }
   ],
   "source": [
    "pop_tart = np.random.normal(3, 1.5, size=(10_000, 5)) # 10k iterations for the 5 day period\n",
    "\n",
    "pop_tart[0:5]\n",
    "\n",
    "pop_tarts_eaten = pop_tart.sum(axis=1)\n",
    "pop_tarts_eaten[0:5]\n",
    "\n",
    "(pop_tarts_eaten < 17).mean() #Average less than 17 pop tarts"
   ]
  },
  {
   "cell_type": "markdown",
   "id": "2d74bb97",
   "metadata": {},
   "source": [
    "##### 5. Compare Heights\n",
    "\n",
    "- Men have an average height of 178 cm and standard deviation of 8cm.\n",
    "- Women have a mean of 170, sd = 6cm.\n",
    "- Since you have means and standard deviations, you can use np.random.normal to generate observations.\n",
    "- If a man and woman are chosen at random, P(woman taller than man)?\n"
   ]
  },
  {
   "cell_type": "code",
   "execution_count": 88,
   "id": "95825983",
   "metadata": {},
   "outputs": [
    {
     "data": {
      "text/plain": [
       "0.2117"
      ]
     },
     "execution_count": 88,
     "metadata": {},
     "output_type": "execute_result"
    }
   ],
   "source": [
    "avg_ht_men = 178\n",
    "avg_ht_women = 170\n",
    "\n",
    "men_std = 8\n",
    "women_std = 6\n",
    "\n",
    "n_simulations = 100_000\n",
    "\n",
    "random_ht_man = np.random.normal(avg_ht_men, men_std, n_simulations)\n",
    "random_ht_woman = np.random.normal(avg_ht_women, women_std, n_simulations)\n",
    "\n",
    "(random_ht_woman > random_ht_man).mean()"
   ]
  },
  {
   "cell_type": "markdown",
   "id": "30f6a7c5",
   "metadata": {},
   "source": [
    "##### 6. When installing anaconda on a student's computer, there's a 1 in 250 chance that the download is corrupted and the installation fails. What are the odds that after having 50 students download anaconda, no one has an installation issue? 100 students?\n",
    "\n",
    "- What is the probability that we observe an installation issue within the first 150 students that download anaconda?\n",
    "\n",
    "- How likely is it that 450 students all download anaconda without an issue?"
   ]
  },
  {
   "cell_type": "code",
   "execution_count": 66,
   "id": "aa335bc8",
   "metadata": {},
   "outputs": [
    {
     "data": {
      "text/plain": [
       "array([[0, 0, 0, ..., 0, 0, 0],\n",
       "       [0, 0, 0, ..., 0, 0, 0],\n",
       "       [0, 0, 0, ..., 0, 0, 0],\n",
       "       ...,\n",
       "       [0, 0, 0, ..., 0, 0, 0],\n",
       "       [0, 0, 0, ..., 0, 0, 0],\n",
       "       [0, 0, 0, ..., 0, 0, 0]])"
      ]
     },
     "execution_count": 66,
     "metadata": {},
     "output_type": "execute_result"
    }
   ],
   "source": [
    "corrupted = [1, 0] # 1 = corrupted; 0 = not corrupted\n",
    "n_simulations = 100_000\n",
    "n_students = 100\n",
    "\n",
    "corrupt_anaconda = np.random.choice(corrupted, size=(n_simulations, n_students), p=[1/250, 249/250])\n",
    "corrupt_anaconda"
   ]
  },
  {
   "cell_type": "code",
   "execution_count": 83,
   "id": "776481df",
   "metadata": {},
   "outputs": [
    {
     "data": {
      "text/plain": [
       "0.81969"
      ]
     },
     "execution_count": 83,
     "metadata": {},
     "output_type": "execute_result"
    }
   ],
   "source": [
    "n_students = 50\n",
    "corrupt_anaconda = np.random.choice(corrupted, size=(n_simulations, n_students), p=[1/250, 249/250])\n",
    "total_corrupt = corrupt_anaconda.sum(axis=1)\n",
    "1- (total_corrupt >=1).mean()"
   ]
  },
  {
   "cell_type": "code",
   "execution_count": 87,
   "id": "4e8ad35f",
   "metadata": {},
   "outputs": [
    {
     "data": {
      "text/plain": [
       "0.6685"
      ]
     },
     "execution_count": 87,
     "metadata": {},
     "output_type": "execute_result"
    }
   ],
   "source": [
    "n_students = 100\n",
    "corrupt_anaconda = np.random.choice(corrupted, size=(n_simulations, n_students), p=[1/250, 249/250])\n",
    "total_corrupt = corrupt_anaconda.sum(axis=1)\n",
    "1- (total_corrupt >=1).mean()"
   ]
  },
  {
   "cell_type": "code",
   "execution_count": 85,
   "id": "6f90f193",
   "metadata": {},
   "outputs": [
    {
     "data": {
      "text/plain": [
       "0.54837"
      ]
     },
     "execution_count": 85,
     "metadata": {},
     "output_type": "execute_result"
    }
   ],
   "source": [
    "n_students = 150\n",
    "corrupt_anaconda = np.random.choice(corrupted, size=(n_simulations, n_students), p=[1/250, 249/250])\n",
    "total_corrupt = corrupt_anaconda.sum(axis=1)\n",
    "1- (total_corrupt >=1).mean()"
   ]
  },
  {
   "cell_type": "code",
   "execution_count": 86,
   "id": "9ba77ff5",
   "metadata": {},
   "outputs": [
    {
     "data": {
      "text/plain": [
       "0.16386999999999996"
      ]
     },
     "execution_count": 86,
     "metadata": {},
     "output_type": "execute_result"
    }
   ],
   "source": [
    "n_students = 450\n",
    "corrupt_anaconda = np.random.choice(corrupted, size=(n_simulations, n_students), p=[1/250, 249/250])\n",
    "total_corrupt = corrupt_anaconda.sum(axis=1)\n",
    "1- (total_corrupt >=1).mean()"
   ]
  },
  {
   "cell_type": "markdown",
   "id": "670eda66",
   "metadata": {},
   "source": [
    "##### 7. There's a 70% chance on any given day that there will be at least one food truck at Travis Park. However, you haven't seen a food truck there in 3 days. How unlikely is this?\n",
    "\n",
    "- How likely is it that a food truck will show up sometime this week?"
   ]
  },
  {
   "cell_type": "code",
   "execution_count": 111,
   "id": "4d839838",
   "metadata": {},
   "outputs": [
    {
     "data": {
      "text/plain": [
       "0.0288"
      ]
     },
     "execution_count": 111,
     "metadata": {},
     "output_type": "execute_result"
    }
   ],
   "source": [
    "# probability that at least one food truck arrives = 0.7\n",
    "food_truck_arrives = [1, 0] # yes, no\n",
    "food_sample = np.random.choice(food_truck_arrives, size=(10_000, 3), p=[0.7, 0.3] )\n",
    "food_sample \n",
    "\n",
    "food_sample_sums = food_sample.sum(axis=1)\n",
    "food_sample_sums\n",
    "\n",
    "(food_sample_sums == 0).mean() # Probability that food truck no show for three days in a row"
   ]
  },
  {
   "cell_type": "code",
   "execution_count": 114,
   "id": "01a404f4",
   "metadata": {},
   "outputs": [
    {
     "data": {
      "text/plain": [
       "0.9998"
      ]
     },
     "execution_count": 114,
     "metadata": {},
     "output_type": "execute_result"
    }
   ],
   "source": [
    "food_truck_arrives = [1, 0] # yes, no\n",
    "food_sample = np.random.choice(food_truck_arrives, size=(10_000, 7), p=[0.7, 0.3] )\n",
    "food_sample\n",
    "\n",
    "food_sample_sums = food_sample.sum(axis=1)\n",
    "food_sample_sums\n",
    "\n",
    "(food_sample_sums > 0).mean() # Probabiliy that a food truck will show up at least one day in a week"
   ]
  },
  {
   "cell_type": "markdown",
   "id": "6aa43367",
   "metadata": {},
   "source": [
    "##### 8. If 23 people are in the same room, what are the odds that two of them share a birthday? What if it's 20 people? 40?"
   ]
  },
  {
   "cell_type": "code",
   "execution_count": null,
   "id": "dd79043a",
   "metadata": {},
   "outputs": [],
   "source": [
    "def odds_same_birthday(people_in_room):\n",
    "    birthdays = list(range(1, 366))\n",
    "    n_samples = 10_000\n",
    "    person_1 = np.random.choice(birthdays, size=(n_samples, people_in_room))\n",
    "    person_2 = np.random.choice(birthdays, size=(n_samples, people_in_room))\n",
    "    (person_1 == )\n",
    "                                "
   ]
  },
  {
   "cell_type": "code",
   "execution_count": 136,
   "id": "f1b787d1",
   "metadata": {},
   "outputs": [
    {
     "data": {
      "text/html": [
       "<div>\n",
       "<style scoped>\n",
       "    .dataframe tbody tr th:only-of-type {\n",
       "        vertical-align: middle;\n",
       "    }\n",
       "\n",
       "    .dataframe tbody tr th {\n",
       "        vertical-align: top;\n",
       "    }\n",
       "\n",
       "    .dataframe thead th {\n",
       "        text-align: right;\n",
       "    }\n",
       "</style>\n",
       "<table border=\"1\" class=\"dataframe\">\n",
       "  <thead>\n",
       "    <tr style=\"text-align: right;\">\n",
       "      <th></th>\n",
       "      <th>0</th>\n",
       "      <th>1</th>\n",
       "      <th>2</th>\n",
       "      <th>3</th>\n",
       "      <th>4</th>\n",
       "      <th>5</th>\n",
       "      <th>6</th>\n",
       "      <th>7</th>\n",
       "      <th>8</th>\n",
       "      <th>9</th>\n",
       "      <th>...</th>\n",
       "      <th>30</th>\n",
       "      <th>31</th>\n",
       "      <th>32</th>\n",
       "      <th>33</th>\n",
       "      <th>34</th>\n",
       "      <th>35</th>\n",
       "      <th>36</th>\n",
       "      <th>37</th>\n",
       "      <th>38</th>\n",
       "      <th>39</th>\n",
       "    </tr>\n",
       "  </thead>\n",
       "  <tbody>\n",
       "    <tr>\n",
       "      <th>0</th>\n",
       "      <td>38</td>\n",
       "      <td>188</td>\n",
       "      <td>123</td>\n",
       "      <td>321</td>\n",
       "      <td>122</td>\n",
       "      <td>67</td>\n",
       "      <td>332</td>\n",
       "      <td>145</td>\n",
       "      <td>260</td>\n",
       "      <td>236</td>\n",
       "      <td>...</td>\n",
       "      <td>320</td>\n",
       "      <td>152</td>\n",
       "      <td>29</td>\n",
       "      <td>143</td>\n",
       "      <td>128</td>\n",
       "      <td>169</td>\n",
       "      <td>228</td>\n",
       "      <td>289</td>\n",
       "      <td>330</td>\n",
       "      <td>68</td>\n",
       "    </tr>\n",
       "    <tr>\n",
       "      <th>1</th>\n",
       "      <td>335</td>\n",
       "      <td>309</td>\n",
       "      <td>134</td>\n",
       "      <td>219</td>\n",
       "      <td>136</td>\n",
       "      <td>160</td>\n",
       "      <td>314</td>\n",
       "      <td>264</td>\n",
       "      <td>43</td>\n",
       "      <td>170</td>\n",
       "      <td>...</td>\n",
       "      <td>83</td>\n",
       "      <td>190</td>\n",
       "      <td>5</td>\n",
       "      <td>205</td>\n",
       "      <td>322</td>\n",
       "      <td>274</td>\n",
       "      <td>31</td>\n",
       "      <td>158</td>\n",
       "      <td>274</td>\n",
       "      <td>95</td>\n",
       "    </tr>\n",
       "    <tr>\n",
       "      <th>2</th>\n",
       "      <td>202</td>\n",
       "      <td>83</td>\n",
       "      <td>212</td>\n",
       "      <td>354</td>\n",
       "      <td>33</td>\n",
       "      <td>249</td>\n",
       "      <td>55</td>\n",
       "      <td>344</td>\n",
       "      <td>152</td>\n",
       "      <td>283</td>\n",
       "      <td>...</td>\n",
       "      <td>62</td>\n",
       "      <td>91</td>\n",
       "      <td>19</td>\n",
       "      <td>274</td>\n",
       "      <td>71</td>\n",
       "      <td>289</td>\n",
       "      <td>213</td>\n",
       "      <td>173</td>\n",
       "      <td>118</td>\n",
       "      <td>46</td>\n",
       "    </tr>\n",
       "    <tr>\n",
       "      <th>3</th>\n",
       "      <td>8</td>\n",
       "      <td>18</td>\n",
       "      <td>91</td>\n",
       "      <td>74</td>\n",
       "      <td>114</td>\n",
       "      <td>280</td>\n",
       "      <td>55</td>\n",
       "      <td>119</td>\n",
       "      <td>161</td>\n",
       "      <td>133</td>\n",
       "      <td>...</td>\n",
       "      <td>6</td>\n",
       "      <td>299</td>\n",
       "      <td>343</td>\n",
       "      <td>228</td>\n",
       "      <td>321</td>\n",
       "      <td>77</td>\n",
       "      <td>147</td>\n",
       "      <td>99</td>\n",
       "      <td>28</td>\n",
       "      <td>290</td>\n",
       "    </tr>\n",
       "    <tr>\n",
       "      <th>4</th>\n",
       "      <td>37</td>\n",
       "      <td>64</td>\n",
       "      <td>202</td>\n",
       "      <td>156</td>\n",
       "      <td>158</td>\n",
       "      <td>24</td>\n",
       "      <td>78</td>\n",
       "      <td>235</td>\n",
       "      <td>260</td>\n",
       "      <td>101</td>\n",
       "      <td>...</td>\n",
       "      <td>149</td>\n",
       "      <td>267</td>\n",
       "      <td>121</td>\n",
       "      <td>182</td>\n",
       "      <td>310</td>\n",
       "      <td>230</td>\n",
       "      <td>76</td>\n",
       "      <td>331</td>\n",
       "      <td>24</td>\n",
       "      <td>242</td>\n",
       "    </tr>\n",
       "    <tr>\n",
       "      <th>...</th>\n",
       "      <td>...</td>\n",
       "      <td>...</td>\n",
       "      <td>...</td>\n",
       "      <td>...</td>\n",
       "      <td>...</td>\n",
       "      <td>...</td>\n",
       "      <td>...</td>\n",
       "      <td>...</td>\n",
       "      <td>...</td>\n",
       "      <td>...</td>\n",
       "      <td>...</td>\n",
       "      <td>...</td>\n",
       "      <td>...</td>\n",
       "      <td>...</td>\n",
       "      <td>...</td>\n",
       "      <td>...</td>\n",
       "      <td>...</td>\n",
       "      <td>...</td>\n",
       "      <td>...</td>\n",
       "      <td>...</td>\n",
       "      <td>...</td>\n",
       "    </tr>\n",
       "    <tr>\n",
       "      <th>9995</th>\n",
       "      <td>325</td>\n",
       "      <td>72</td>\n",
       "      <td>320</td>\n",
       "      <td>363</td>\n",
       "      <td>353</td>\n",
       "      <td>362</td>\n",
       "      <td>340</td>\n",
       "      <td>262</td>\n",
       "      <td>284</td>\n",
       "      <td>346</td>\n",
       "      <td>...</td>\n",
       "      <td>267</td>\n",
       "      <td>43</td>\n",
       "      <td>153</td>\n",
       "      <td>294</td>\n",
       "      <td>223</td>\n",
       "      <td>308</td>\n",
       "      <td>251</td>\n",
       "      <td>291</td>\n",
       "      <td>56</td>\n",
       "      <td>123</td>\n",
       "    </tr>\n",
       "    <tr>\n",
       "      <th>9996</th>\n",
       "      <td>218</td>\n",
       "      <td>287</td>\n",
       "      <td>21</td>\n",
       "      <td>182</td>\n",
       "      <td>26</td>\n",
       "      <td>96</td>\n",
       "      <td>330</td>\n",
       "      <td>303</td>\n",
       "      <td>328</td>\n",
       "      <td>236</td>\n",
       "      <td>...</td>\n",
       "      <td>273</td>\n",
       "      <td>171</td>\n",
       "      <td>283</td>\n",
       "      <td>54</td>\n",
       "      <td>208</td>\n",
       "      <td>112</td>\n",
       "      <td>45</td>\n",
       "      <td>109</td>\n",
       "      <td>293</td>\n",
       "      <td>362</td>\n",
       "    </tr>\n",
       "    <tr>\n",
       "      <th>9997</th>\n",
       "      <td>205</td>\n",
       "      <td>332</td>\n",
       "      <td>326</td>\n",
       "      <td>214</td>\n",
       "      <td>191</td>\n",
       "      <td>365</td>\n",
       "      <td>269</td>\n",
       "      <td>177</td>\n",
       "      <td>27</td>\n",
       "      <td>239</td>\n",
       "      <td>...</td>\n",
       "      <td>323</td>\n",
       "      <td>98</td>\n",
       "      <td>33</td>\n",
       "      <td>212</td>\n",
       "      <td>253</td>\n",
       "      <td>165</td>\n",
       "      <td>124</td>\n",
       "      <td>321</td>\n",
       "      <td>87</td>\n",
       "      <td>266</td>\n",
       "    </tr>\n",
       "    <tr>\n",
       "      <th>9998</th>\n",
       "      <td>128</td>\n",
       "      <td>53</td>\n",
       "      <td>80</td>\n",
       "      <td>47</td>\n",
       "      <td>45</td>\n",
       "      <td>62</td>\n",
       "      <td>44</td>\n",
       "      <td>110</td>\n",
       "      <td>180</td>\n",
       "      <td>15</td>\n",
       "      <td>...</td>\n",
       "      <td>101</td>\n",
       "      <td>118</td>\n",
       "      <td>307</td>\n",
       "      <td>190</td>\n",
       "      <td>20</td>\n",
       "      <td>172</td>\n",
       "      <td>275</td>\n",
       "      <td>310</td>\n",
       "      <td>273</td>\n",
       "      <td>235</td>\n",
       "    </tr>\n",
       "    <tr>\n",
       "      <th>9999</th>\n",
       "      <td>100</td>\n",
       "      <td>51</td>\n",
       "      <td>135</td>\n",
       "      <td>2</td>\n",
       "      <td>105</td>\n",
       "      <td>294</td>\n",
       "      <td>285</td>\n",
       "      <td>309</td>\n",
       "      <td>220</td>\n",
       "      <td>309</td>\n",
       "      <td>...</td>\n",
       "      <td>83</td>\n",
       "      <td>266</td>\n",
       "      <td>333</td>\n",
       "      <td>109</td>\n",
       "      <td>102</td>\n",
       "      <td>178</td>\n",
       "      <td>284</td>\n",
       "      <td>72</td>\n",
       "      <td>83</td>\n",
       "      <td>252</td>\n",
       "    </tr>\n",
       "  </tbody>\n",
       "</table>\n",
       "<p>10000 rows × 40 columns</p>\n",
       "</div>"
      ],
      "text/plain": [
       "       0    1    2    3    4    5    6    7    8    9   ...   30   31   32  \\\n",
       "0      38  188  123  321  122   67  332  145  260  236  ...  320  152   29   \n",
       "1     335  309  134  219  136  160  314  264   43  170  ...   83  190    5   \n",
       "2     202   83  212  354   33  249   55  344  152  283  ...   62   91   19   \n",
       "3       8   18   91   74  114  280   55  119  161  133  ...    6  299  343   \n",
       "4      37   64  202  156  158   24   78  235  260  101  ...  149  267  121   \n",
       "...   ...  ...  ...  ...  ...  ...  ...  ...  ...  ...  ...  ...  ...  ...   \n",
       "9995  325   72  320  363  353  362  340  262  284  346  ...  267   43  153   \n",
       "9996  218  287   21  182   26   96  330  303  328  236  ...  273  171  283   \n",
       "9997  205  332  326  214  191  365  269  177   27  239  ...  323   98   33   \n",
       "9998  128   53   80   47   45   62   44  110  180   15  ...  101  118  307   \n",
       "9999  100   51  135    2  105  294  285  309  220  309  ...   83  266  333   \n",
       "\n",
       "       33   34   35   36   37   38   39  \n",
       "0     143  128  169  228  289  330   68  \n",
       "1     205  322  274   31  158  274   95  \n",
       "2     274   71  289  213  173  118   46  \n",
       "3     228  321   77  147   99   28  290  \n",
       "4     182  310  230   76  331   24  242  \n",
       "...   ...  ...  ...  ...  ...  ...  ...  \n",
       "9995  294  223  308  251  291   56  123  \n",
       "9996   54  208  112   45  109  293  362  \n",
       "9997  212  253  165  124  321   87  266  \n",
       "9998  190   20  172  275  310  273  235  \n",
       "9999  109  102  178  284   72   83  252  \n",
       "\n",
       "[10000 rows x 40 columns]"
      ]
     },
     "execution_count": 136,
     "metadata": {},
     "output_type": "execute_result"
    }
   ],
   "source": [
    "    birthdays = list(range(1, 366))\n",
    "    n_samples = 10_000\n",
    "    person_1 = np.random.choice(birthdays, size=(n_samples, 40))\n",
    "    person_2 = np.random.choice(birthdays, size=(n_samples, 40))\n",
    "    df = pd.DataFrame(person_1)\n",
    "    df"
   ]
  },
  {
   "cell_type": "code",
   "execution_count": null,
   "id": "97a648ff",
   "metadata": {},
   "outputs": [],
   "source": []
  },
  {
   "cell_type": "code",
   "execution_count": null,
   "id": "8376e321",
   "metadata": {},
   "outputs": [],
   "source": []
  }
 ],
 "metadata": {
  "kernelspec": {
   "display_name": "Python 3",
   "language": "python",
   "name": "python3"
  },
  "language_info": {
   "codemirror_mode": {
    "name": "ipython",
    "version": 3
   },
   "file_extension": ".py",
   "mimetype": "text/x-python",
   "name": "python",
   "nbconvert_exporter": "python",
   "pygments_lexer": "ipython3",
   "version": "3.8.8"
  }
 },
 "nbformat": 4,
 "nbformat_minor": 5
}
